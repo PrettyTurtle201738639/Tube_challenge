{
 "cells": [
  {
   "cell_type": "code",
   "execution_count": 2,
   "id": "8d262077",
   "metadata": {},
   "outputs": [],
   "source": [
    "import pandas as pd\n",
    "import numpy as np\n",
    "import random\n",
    "import matplotlib.pyplot as plt"
   ]
  },
  {
   "cell_type": "code",
   "execution_count": 3,
   "id": "2ea5de3c",
   "metadata": {},
   "outputs": [],
   "source": [
    "stations = pd.read_csv('/Users/adriensourdille/Desktop/Tube_challenge/stations.txt')\n",
    "routes = pd.read_csv('/Users/adriensourdille/Desktop/Tube_challenge/routes.txt')\n",
    "line_definitions = pd.read_csv('/Users/adriensourdille/Desktop/Tube_challenge/line_definitions.txt')"
   ]
  },
  {
   "cell_type": "code",
   "execution_count": 5,
   "id": "2d50c6cb",
   "metadata": {},
   "outputs": [],
   "source": [
    "#Here, we add connections between the stations of the tube in order to build a connected tube network\n",
    "connections = pd.DataFrame(columns=['line',\t'line_name',\t'line_colour', 'station1', 'station1_name', 'station1_long','station1_lat', 'station1_zone', 'station1_total_lines',\t'station1_rail', 'station2', 'station2_name', 'station2_long','station2_lat', 'station2_zone', 'station2_total_lines',\t'station2_rail'])\n",
    "connections = connections.iloc[0:0]"
   ]
  },
  {
   "cell_type": "code",
   "execution_count": 6,
   "id": "f89b6a7e",
   "metadata": {},
   "outputs": [],
   "source": [
    "for index, row in line_definitions.iterrows():\n",
    "    connections = connections.append({'line': row[2],\n",
    "                                    'line_name': routes[routes['line']==row[2]]['name'].item(),\n",
    "                                    'line_colour': routes[routes['line']==row[2]]['colour'].item(),\n",
    "                                    'station1': row[0],\n",
    "                                    'station1_name': stations[stations['id']==row[0]]['name'].item(),\n",
    "                                    'station1_long': stations[stations['id']==row[0]]['longitude'].item(),\n",
    "                                    'station1_lat': stations[stations['id']==row[0]]['latitude'].item(),\n",
    "                                    'station1_zone': stations[stations['id']==row[0]]['zone'].item(),\n",
    "                                    'station1_total_lines': stations[stations['id']==row[0]]['total_lines'].item(),\n",
    "                                    'station1_rail': stations[stations['id']==row[0]]['rail'].item(),\n",
    "                                    'station2': row[1],\n",
    "                                    'station2_name': stations[stations['id']==row[1]]['name'].item(),\n",
    "                                    'station2_long': stations[stations['id']==row[1]]['longitude'].item(),\n",
    "                                    'station2_lat': stations[stations['id']==row[1]]['latitude'].item(),\n",
    "                                    'station2_zone': stations[stations['id']==row[1]]['zone'].item(),\n",
    "                                    'station2_total_lines': stations[stations['id']==row[1]]['total_lines'].item(),\n",
    "                                    'station2_rail': stations[stations['id']==row[1]]['rail'].item(),\n",
    "                                    }, ignore_index=True)"
   ]
  },
  {
   "cell_type": "code",
   "execution_count": 7,
   "id": "8e4f608b",
   "metadata": {},
   "outputs": [
    {
     "name": "stdout",
     "output_type": "stream",
     "text": [
      "Number of connections in Zone 1: 126\n"
     ]
    }
   ],
   "source": [
    "connections_z1 = connections[(connections['station1_zone']<2) & (connections['station2_zone']<2)]\n",
    "keys = pd.unique(connections_z1[['station1', 'station2']].values.ravel('K'))\n",
    "reindex_dict = dict(zip(keys, range(len(keys))))\n",
    "connections_z1 = connections_z1.replace({\"station1\": reindex_dict}).replace({\"station2\": reindex_dict})\n",
    "print(\"Number of connections in Zone 1:\", len(connections_z1))"
   ]
  },
  {
   "cell_type": "markdown",
   "id": "51f07334",
   "metadata": {},
   "source": [
    "Random Policy \n",
    "Next, we will estimate the distance an agent would have to travel before completing the Tube challenge with a random policy. The agent will randomly choose to either X or Y with equal probability and will only stop once it has travelled to every station in the network\n",
    "\n",
    "As we can see, it would take the agent 39707 steps and 44970 km to complete the Tube Challenge (starting from station 169) if it took decisions randomly. This result is important as it will be used as a measure of comparaison in our subsequent work.\n",
    "\n",
    "As we can see, it would take the agent 19440 steps and 21819 km to complete the Tube Challenge (starting from station 169) if it took decisions randomly. This result is important as it will be used as a measure of comparaison in our subsequent work.\n",
    "\n",
    "would be interesting to repeat the process X times and get an average by the law of great numbers it would get us an estimate closer to the mean\n",
    "\n",
    "As this plot shows, as the number of episode (and value of epsilon) increases, the performance gets worse and worse than a random policy. We can't simply take the current station as state, the next station as action, and give the state-action a value. In this sequential decision making process, the desirablity of travelling from one station to another station is going to vary overtime."
   ]
  }
 ],
 "metadata": {
  "kernelspec": {
   "display_name": "Python 3 (ipykernel)",
   "language": "python",
   "name": "python3"
  },
  "language_info": {
   "codemirror_mode": {
    "name": "ipython",
    "version": 3
   },
   "file_extension": ".py",
   "mimetype": "text/x-python",
   "name": "python",
   "nbconvert_exporter": "python",
   "pygments_lexer": "ipython3",
   "version": "3.9.7"
  }
 },
 "nbformat": 4,
 "nbformat_minor": 5
}
