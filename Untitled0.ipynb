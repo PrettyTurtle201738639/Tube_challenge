{
  "nbformat": 4,
  "nbformat_minor": 0,
  "metadata": {
    "colab": {
      "name": "Untitled0.ipynb",
      "provenance": [],
      "include_colab_link": true
    },
    "kernelspec": {
      "name": "python3",
      "display_name": "Python 3"
    },
    "language_info": {
      "name": "python"
    }
  },
  "cells": [
    {
      "cell_type": "markdown",
      "metadata": {
        "id": "view-in-github",
        "colab_type": "text"
      },
      "source": [
        "<a href=\"https://colab.research.google.com/github/PrettyTurtle201738639/Tube_challenge/blob/main/Untitled0.ipynb\" target=\"_parent\"><img src=\"https://colab.research.google.com/assets/colab-badge.svg\" alt=\"Open In Colab\"/></a>"
      ]
    },
    {
      "cell_type": "markdown",
      "source": [
        "##Loading source datasets"
      ],
      "metadata": {
        "id": "-jSAt6mg7LUb"
      }
    },
    {
      "cell_type": "code",
      "execution_count": null,
      "metadata": {
        "id": "wt2kdv517IhN"
      },
      "outputs": [],
      "source": [
        "import pandas as pd\n",
        "import numpy as np\n",
        "import random\n",
        "import matplotlib.pyplot as plt\n",
        "import networkx as nx\n",
        "import os"
      ]
    },
    {
      "cell_type": "markdown",
      "source": [
        "To run this notebook, please put the three csv files under your current working directory."
      ],
      "metadata": {
        "id": "tP7EktIk7UuH"
      }
    },
    {
      "cell_type": "code",
      "source": [
        "from google.colab import drive\n",
        "drive.mount('/content/drive')\n",
        "os.chdir(\"/content/drive/My Drive/RLproject\")"
      ],
      "metadata": {
        "colab": {
          "base_uri": "https://localhost:8080/",
          "height": 346
        },
        "id": "6PoDSaCK7Rvr",
        "outputId": "586dad10-93ef-4a02-ed8f-391ff3782864"
      },
      "execution_count": null,
      "outputs": [
        {
          "output_type": "error",
          "ename": "MessageError",
          "evalue": "ignored",
          "traceback": [
            "\u001b[0;31m---------------------------------------------------------------------------\u001b[0m",
            "\u001b[0;31mMessageError\u001b[0m                              Traceback (most recent call last)",
            "\u001b[0;32m<ipython-input-3-bd63d72cd6f8>\u001b[0m in \u001b[0;36m<module>\u001b[0;34m()\u001b[0m\n\u001b[1;32m      1\u001b[0m \u001b[0;32mfrom\u001b[0m \u001b[0mgoogle\u001b[0m\u001b[0;34m.\u001b[0m\u001b[0mcolab\u001b[0m \u001b[0;32mimport\u001b[0m \u001b[0mdrive\u001b[0m\u001b[0;34m\u001b[0m\u001b[0;34m\u001b[0m\u001b[0m\n\u001b[0;32m----> 2\u001b[0;31m \u001b[0mdrive\u001b[0m\u001b[0;34m.\u001b[0m\u001b[0mmount\u001b[0m\u001b[0;34m(\u001b[0m\u001b[0;34m'/content/drive'\u001b[0m\u001b[0;34m)\u001b[0m\u001b[0;34m\u001b[0m\u001b[0;34m\u001b[0m\u001b[0m\n\u001b[0m\u001b[1;32m      3\u001b[0m \u001b[0mos\u001b[0m\u001b[0;34m.\u001b[0m\u001b[0mchdir\u001b[0m\u001b[0;34m(\u001b[0m\u001b[0;34m\"/content/drive/My Drive/RLproject\"\u001b[0m\u001b[0;34m)\u001b[0m\u001b[0;34m\u001b[0m\u001b[0;34m\u001b[0m\u001b[0m\n",
            "\u001b[0;32m/usr/local/lib/python3.7/dist-packages/google/colab/drive.py\u001b[0m in \u001b[0;36mmount\u001b[0;34m(mountpoint, force_remount, timeout_ms)\u001b[0m\n\u001b[1;32m    107\u001b[0m       \u001b[0mforce_remount\u001b[0m\u001b[0;34m=\u001b[0m\u001b[0mforce_remount\u001b[0m\u001b[0;34m,\u001b[0m\u001b[0;34m\u001b[0m\u001b[0;34m\u001b[0m\u001b[0m\n\u001b[1;32m    108\u001b[0m       \u001b[0mtimeout_ms\u001b[0m\u001b[0;34m=\u001b[0m\u001b[0mtimeout_ms\u001b[0m\u001b[0;34m,\u001b[0m\u001b[0;34m\u001b[0m\u001b[0;34m\u001b[0m\u001b[0m\n\u001b[0;32m--> 109\u001b[0;31m       ephemeral=True)\n\u001b[0m\u001b[1;32m    110\u001b[0m \u001b[0;34m\u001b[0m\u001b[0m\n\u001b[1;32m    111\u001b[0m \u001b[0;34m\u001b[0m\u001b[0m\n",
            "\u001b[0;32m/usr/local/lib/python3.7/dist-packages/google/colab/drive.py\u001b[0m in \u001b[0;36m_mount\u001b[0;34m(mountpoint, force_remount, timeout_ms, ephemeral)\u001b[0m\n\u001b[1;32m    122\u001b[0m   \u001b[0;32mif\u001b[0m \u001b[0mephemeral\u001b[0m\u001b[0;34m:\u001b[0m\u001b[0;34m\u001b[0m\u001b[0;34m\u001b[0m\u001b[0m\n\u001b[1;32m    123\u001b[0m     _message.blocking_request(\n\u001b[0;32m--> 124\u001b[0;31m         'request_auth', request={'authType': 'dfs_ephemeral'}, timeout_sec=None)\n\u001b[0m\u001b[1;32m    125\u001b[0m \u001b[0;34m\u001b[0m\u001b[0m\n\u001b[1;32m    126\u001b[0m   \u001b[0mmountpoint\u001b[0m \u001b[0;34m=\u001b[0m \u001b[0m_os\u001b[0m\u001b[0;34m.\u001b[0m\u001b[0mpath\u001b[0m\u001b[0;34m.\u001b[0m\u001b[0mexpanduser\u001b[0m\u001b[0;34m(\u001b[0m\u001b[0mmountpoint\u001b[0m\u001b[0;34m)\u001b[0m\u001b[0;34m\u001b[0m\u001b[0;34m\u001b[0m\u001b[0m\n",
            "\u001b[0;32m/usr/local/lib/python3.7/dist-packages/google/colab/_message.py\u001b[0m in \u001b[0;36mblocking_request\u001b[0;34m(request_type, request, timeout_sec, parent)\u001b[0m\n\u001b[1;32m    173\u001b[0m   request_id = send_request(\n\u001b[1;32m    174\u001b[0m       request_type, request, parent=parent, expect_reply=True)\n\u001b[0;32m--> 175\u001b[0;31m   \u001b[0;32mreturn\u001b[0m \u001b[0mread_reply_from_input\u001b[0m\u001b[0;34m(\u001b[0m\u001b[0mrequest_id\u001b[0m\u001b[0;34m,\u001b[0m \u001b[0mtimeout_sec\u001b[0m\u001b[0;34m)\u001b[0m\u001b[0;34m\u001b[0m\u001b[0;34m\u001b[0m\u001b[0m\n\u001b[0m",
            "\u001b[0;32m/usr/local/lib/python3.7/dist-packages/google/colab/_message.py\u001b[0m in \u001b[0;36mread_reply_from_input\u001b[0;34m(message_id, timeout_sec)\u001b[0m\n\u001b[1;32m    104\u001b[0m         reply.get('colab_msg_id') == message_id):\n\u001b[1;32m    105\u001b[0m       \u001b[0;32mif\u001b[0m \u001b[0;34m'error'\u001b[0m \u001b[0;32min\u001b[0m \u001b[0mreply\u001b[0m\u001b[0;34m:\u001b[0m\u001b[0;34m\u001b[0m\u001b[0;34m\u001b[0m\u001b[0m\n\u001b[0;32m--> 106\u001b[0;31m         \u001b[0;32mraise\u001b[0m \u001b[0mMessageError\u001b[0m\u001b[0;34m(\u001b[0m\u001b[0mreply\u001b[0m\u001b[0;34m[\u001b[0m\u001b[0;34m'error'\u001b[0m\u001b[0;34m]\u001b[0m\u001b[0;34m)\u001b[0m\u001b[0;34m\u001b[0m\u001b[0;34m\u001b[0m\u001b[0m\n\u001b[0m\u001b[1;32m    107\u001b[0m       \u001b[0;32mreturn\u001b[0m \u001b[0mreply\u001b[0m\u001b[0;34m.\u001b[0m\u001b[0mget\u001b[0m\u001b[0;34m(\u001b[0m\u001b[0;34m'data'\u001b[0m\u001b[0;34m,\u001b[0m \u001b[0;32mNone\u001b[0m\u001b[0;34m)\u001b[0m\u001b[0;34m\u001b[0m\u001b[0;34m\u001b[0m\u001b[0m\n\u001b[1;32m    108\u001b[0m \u001b[0;34m\u001b[0m\u001b[0m\n",
            "\u001b[0;31mMessageError\u001b[0m: Error: credential propagation was unsuccessful"
          ]
        }
      ]
    },
    {
      "cell_type": "code",
      "source": [
        "stations = pd.read_csv('stations.txt')\n",
        "routes = pd.read_csv('routes.txt')\n",
        "line_definitions = pd.read_csv('line_definitions.txt')"
      ],
      "metadata": {
        "id": "SBj9ey1zKMl8"
      },
      "execution_count": null,
      "outputs": []
    },
    {
      "cell_type": "code",
      "source": [
        "stations.head()"
      ],
      "metadata": {
        "colab": {
          "base_uri": "https://localhost:8080/",
          "height": 206
        },
        "id": "9rW_p-6GGrds",
        "outputId": "f452b0d7-8ff3-481b-f00f-d196bc8ac39f"
      },
      "execution_count": null,
      "outputs": [
        {
          "output_type": "execute_result",
          "data": {
            "text/plain": [
              "   id  latitude  longitude          name       display_name  zone  \\\n",
              "0   1   51.5028    -0.2801    Acton Town    Acton<br />Town   3.0   \n",
              "1   2   51.5143    -0.0755       Aldgate                NaN   1.0   \n",
              "2   3   51.5154    -0.0726  Aldgate East  Aldgate<br />East   1.0   \n",
              "3   4   51.5107    -0.0130    All Saints    All<br />Saints   2.0   \n",
              "4   5   51.5407    -0.2997      Alperton                NaN   4.0   \n",
              "\n",
              "   total_lines  rail  \n",
              "0            2     0  \n",
              "1            2     0  \n",
              "2            2     0  \n",
              "3            1     0  \n",
              "4            1     0  "
            ],
            "text/html": [
              "\n",
              "  <div id=\"df-745fdbb1-8169-4868-bfc5-4243f69868e9\">\n",
              "    <div class=\"colab-df-container\">\n",
              "      <div>\n",
              "<style scoped>\n",
              "    .dataframe tbody tr th:only-of-type {\n",
              "        vertical-align: middle;\n",
              "    }\n",
              "\n",
              "    .dataframe tbody tr th {\n",
              "        vertical-align: top;\n",
              "    }\n",
              "\n",
              "    .dataframe thead th {\n",
              "        text-align: right;\n",
              "    }\n",
              "</style>\n",
              "<table border=\"1\" class=\"dataframe\">\n",
              "  <thead>\n",
              "    <tr style=\"text-align: right;\">\n",
              "      <th></th>\n",
              "      <th>id</th>\n",
              "      <th>latitude</th>\n",
              "      <th>longitude</th>\n",
              "      <th>name</th>\n",
              "      <th>display_name</th>\n",
              "      <th>zone</th>\n",
              "      <th>total_lines</th>\n",
              "      <th>rail</th>\n",
              "    </tr>\n",
              "  </thead>\n",
              "  <tbody>\n",
              "    <tr>\n",
              "      <th>0</th>\n",
              "      <td>1</td>\n",
              "      <td>51.5028</td>\n",
              "      <td>-0.2801</td>\n",
              "      <td>Acton Town</td>\n",
              "      <td>Acton&lt;br /&gt;Town</td>\n",
              "      <td>3.0</td>\n",
              "      <td>2</td>\n",
              "      <td>0</td>\n",
              "    </tr>\n",
              "    <tr>\n",
              "      <th>1</th>\n",
              "      <td>2</td>\n",
              "      <td>51.5143</td>\n",
              "      <td>-0.0755</td>\n",
              "      <td>Aldgate</td>\n",
              "      <td>NaN</td>\n",
              "      <td>1.0</td>\n",
              "      <td>2</td>\n",
              "      <td>0</td>\n",
              "    </tr>\n",
              "    <tr>\n",
              "      <th>2</th>\n",
              "      <td>3</td>\n",
              "      <td>51.5154</td>\n",
              "      <td>-0.0726</td>\n",
              "      <td>Aldgate East</td>\n",
              "      <td>Aldgate&lt;br /&gt;East</td>\n",
              "      <td>1.0</td>\n",
              "      <td>2</td>\n",
              "      <td>0</td>\n",
              "    </tr>\n",
              "    <tr>\n",
              "      <th>3</th>\n",
              "      <td>4</td>\n",
              "      <td>51.5107</td>\n",
              "      <td>-0.0130</td>\n",
              "      <td>All Saints</td>\n",
              "      <td>All&lt;br /&gt;Saints</td>\n",
              "      <td>2.0</td>\n",
              "      <td>1</td>\n",
              "      <td>0</td>\n",
              "    </tr>\n",
              "    <tr>\n",
              "      <th>4</th>\n",
              "      <td>5</td>\n",
              "      <td>51.5407</td>\n",
              "      <td>-0.2997</td>\n",
              "      <td>Alperton</td>\n",
              "      <td>NaN</td>\n",
              "      <td>4.0</td>\n",
              "      <td>1</td>\n",
              "      <td>0</td>\n",
              "    </tr>\n",
              "  </tbody>\n",
              "</table>\n",
              "</div>\n",
              "      <button class=\"colab-df-convert\" onclick=\"convertToInteractive('df-745fdbb1-8169-4868-bfc5-4243f69868e9')\"\n",
              "              title=\"Convert this dataframe to an interactive table.\"\n",
              "              style=\"display:none;\">\n",
              "        \n",
              "  <svg xmlns=\"http://www.w3.org/2000/svg\" height=\"24px\"viewBox=\"0 0 24 24\"\n",
              "       width=\"24px\">\n",
              "    <path d=\"M0 0h24v24H0V0z\" fill=\"none\"/>\n",
              "    <path d=\"M18.56 5.44l.94 2.06.94-2.06 2.06-.94-2.06-.94-.94-2.06-.94 2.06-2.06.94zm-11 1L8.5 8.5l.94-2.06 2.06-.94-2.06-.94L8.5 2.5l-.94 2.06-2.06.94zm10 10l.94 2.06.94-2.06 2.06-.94-2.06-.94-.94-2.06-.94 2.06-2.06.94z\"/><path d=\"M17.41 7.96l-1.37-1.37c-.4-.4-.92-.59-1.43-.59-.52 0-1.04.2-1.43.59L10.3 9.45l-7.72 7.72c-.78.78-.78 2.05 0 2.83L4 21.41c.39.39.9.59 1.41.59.51 0 1.02-.2 1.41-.59l7.78-7.78 2.81-2.81c.8-.78.8-2.07 0-2.86zM5.41 20L4 18.59l7.72-7.72 1.47 1.35L5.41 20z\"/>\n",
              "  </svg>\n",
              "      </button>\n",
              "      \n",
              "  <style>\n",
              "    .colab-df-container {\n",
              "      display:flex;\n",
              "      flex-wrap:wrap;\n",
              "      gap: 12px;\n",
              "    }\n",
              "\n",
              "    .colab-df-convert {\n",
              "      background-color: #E8F0FE;\n",
              "      border: none;\n",
              "      border-radius: 50%;\n",
              "      cursor: pointer;\n",
              "      display: none;\n",
              "      fill: #1967D2;\n",
              "      height: 32px;\n",
              "      padding: 0 0 0 0;\n",
              "      width: 32px;\n",
              "    }\n",
              "\n",
              "    .colab-df-convert:hover {\n",
              "      background-color: #E2EBFA;\n",
              "      box-shadow: 0px 1px 2px rgba(60, 64, 67, 0.3), 0px 1px 3px 1px rgba(60, 64, 67, 0.15);\n",
              "      fill: #174EA6;\n",
              "    }\n",
              "\n",
              "    [theme=dark] .colab-df-convert {\n",
              "      background-color: #3B4455;\n",
              "      fill: #D2E3FC;\n",
              "    }\n",
              "\n",
              "    [theme=dark] .colab-df-convert:hover {\n",
              "      background-color: #434B5C;\n",
              "      box-shadow: 0px 1px 3px 1px rgba(0, 0, 0, 0.15);\n",
              "      filter: drop-shadow(0px 1px 2px rgba(0, 0, 0, 0.3));\n",
              "      fill: #FFFFFF;\n",
              "    }\n",
              "  </style>\n",
              "\n",
              "      <script>\n",
              "        const buttonEl =\n",
              "          document.querySelector('#df-745fdbb1-8169-4868-bfc5-4243f69868e9 button.colab-df-convert');\n",
              "        buttonEl.style.display =\n",
              "          google.colab.kernel.accessAllowed ? 'block' : 'none';\n",
              "\n",
              "        async function convertToInteractive(key) {\n",
              "          const element = document.querySelector('#df-745fdbb1-8169-4868-bfc5-4243f69868e9');\n",
              "          const dataTable =\n",
              "            await google.colab.kernel.invokeFunction('convertToInteractive',\n",
              "                                                     [key], {});\n",
              "          if (!dataTable) return;\n",
              "\n",
              "          const docLinkHtml = 'Like what you see? Visit the ' +\n",
              "            '<a target=\"_blank\" href=https://colab.research.google.com/notebooks/data_table.ipynb>data table notebook</a>'\n",
              "            + ' to learn more about interactive tables.';\n",
              "          element.innerHTML = '';\n",
              "          dataTable['output_type'] = 'display_data';\n",
              "          await google.colab.output.renderOutput(dataTable, element);\n",
              "          const docLink = document.createElement('div');\n",
              "          docLink.innerHTML = docLinkHtml;\n",
              "          element.appendChild(docLink);\n",
              "        }\n",
              "      </script>\n",
              "    </div>\n",
              "  </div>\n",
              "  "
            ]
          },
          "metadata": {},
          "execution_count": 39
        }
      ]
    },
    {
      "cell_type": "code",
      "source": [
        "routes.head()"
      ],
      "metadata": {
        "colab": {
          "base_uri": "https://localhost:8080/",
          "height": 206
        },
        "id": "ZhcJf-vIGuud",
        "outputId": "ddb53f78-ace1-401f-8eb0-0dc626b84db6"
      },
      "execution_count": null,
      "outputs": [
        {
          "output_type": "execute_result",
          "data": {
            "text/plain": [
              "   line                     name  colour stripe\n",
              "0     1            Bakerloo Line  ab6612    NaN\n",
              "1     3              Circle Line  f7dc00    NaN\n",
              "2     6  Hammersmith & City Line  f5a6b3    NaN\n",
              "3     7             Jubilee Line  767b7f    NaN\n",
              "4    11            Victoria Line  0076bd    NaN"
            ],
            "text/html": [
              "\n",
              "  <div id=\"df-b021ed05-08fe-44e6-8b88-0356c643d3d6\">\n",
              "    <div class=\"colab-df-container\">\n",
              "      <div>\n",
              "<style scoped>\n",
              "    .dataframe tbody tr th:only-of-type {\n",
              "        vertical-align: middle;\n",
              "    }\n",
              "\n",
              "    .dataframe tbody tr th {\n",
              "        vertical-align: top;\n",
              "    }\n",
              "\n",
              "    .dataframe thead th {\n",
              "        text-align: right;\n",
              "    }\n",
              "</style>\n",
              "<table border=\"1\" class=\"dataframe\">\n",
              "  <thead>\n",
              "    <tr style=\"text-align: right;\">\n",
              "      <th></th>\n",
              "      <th>line</th>\n",
              "      <th>name</th>\n",
              "      <th>colour</th>\n",
              "      <th>stripe</th>\n",
              "    </tr>\n",
              "  </thead>\n",
              "  <tbody>\n",
              "    <tr>\n",
              "      <th>0</th>\n",
              "      <td>1</td>\n",
              "      <td>Bakerloo Line</td>\n",
              "      <td>ab6612</td>\n",
              "      <td>NaN</td>\n",
              "    </tr>\n",
              "    <tr>\n",
              "      <th>1</th>\n",
              "      <td>3</td>\n",
              "      <td>Circle Line</td>\n",
              "      <td>f7dc00</td>\n",
              "      <td>NaN</td>\n",
              "    </tr>\n",
              "    <tr>\n",
              "      <th>2</th>\n",
              "      <td>6</td>\n",
              "      <td>Hammersmith &amp; City Line</td>\n",
              "      <td>f5a6b3</td>\n",
              "      <td>NaN</td>\n",
              "    </tr>\n",
              "    <tr>\n",
              "      <th>3</th>\n",
              "      <td>7</td>\n",
              "      <td>Jubilee Line</td>\n",
              "      <td>767b7f</td>\n",
              "      <td>NaN</td>\n",
              "    </tr>\n",
              "    <tr>\n",
              "      <th>4</th>\n",
              "      <td>11</td>\n",
              "      <td>Victoria Line</td>\n",
              "      <td>0076bd</td>\n",
              "      <td>NaN</td>\n",
              "    </tr>\n",
              "  </tbody>\n",
              "</table>\n",
              "</div>\n",
              "      <button class=\"colab-df-convert\" onclick=\"convertToInteractive('df-b021ed05-08fe-44e6-8b88-0356c643d3d6')\"\n",
              "              title=\"Convert this dataframe to an interactive table.\"\n",
              "              style=\"display:none;\">\n",
              "        \n",
              "  <svg xmlns=\"http://www.w3.org/2000/svg\" height=\"24px\"viewBox=\"0 0 24 24\"\n",
              "       width=\"24px\">\n",
              "    <path d=\"M0 0h24v24H0V0z\" fill=\"none\"/>\n",
              "    <path d=\"M18.56 5.44l.94 2.06.94-2.06 2.06-.94-2.06-.94-.94-2.06-.94 2.06-2.06.94zm-11 1L8.5 8.5l.94-2.06 2.06-.94-2.06-.94L8.5 2.5l-.94 2.06-2.06.94zm10 10l.94 2.06.94-2.06 2.06-.94-2.06-.94-.94-2.06-.94 2.06-2.06.94z\"/><path d=\"M17.41 7.96l-1.37-1.37c-.4-.4-.92-.59-1.43-.59-.52 0-1.04.2-1.43.59L10.3 9.45l-7.72 7.72c-.78.78-.78 2.05 0 2.83L4 21.41c.39.39.9.59 1.41.59.51 0 1.02-.2 1.41-.59l7.78-7.78 2.81-2.81c.8-.78.8-2.07 0-2.86zM5.41 20L4 18.59l7.72-7.72 1.47 1.35L5.41 20z\"/>\n",
              "  </svg>\n",
              "      </button>\n",
              "      \n",
              "  <style>\n",
              "    .colab-df-container {\n",
              "      display:flex;\n",
              "      flex-wrap:wrap;\n",
              "      gap: 12px;\n",
              "    }\n",
              "\n",
              "    .colab-df-convert {\n",
              "      background-color: #E8F0FE;\n",
              "      border: none;\n",
              "      border-radius: 50%;\n",
              "      cursor: pointer;\n",
              "      display: none;\n",
              "      fill: #1967D2;\n",
              "      height: 32px;\n",
              "      padding: 0 0 0 0;\n",
              "      width: 32px;\n",
              "    }\n",
              "\n",
              "    .colab-df-convert:hover {\n",
              "      background-color: #E2EBFA;\n",
              "      box-shadow: 0px 1px 2px rgba(60, 64, 67, 0.3), 0px 1px 3px 1px rgba(60, 64, 67, 0.15);\n",
              "      fill: #174EA6;\n",
              "    }\n",
              "\n",
              "    [theme=dark] .colab-df-convert {\n",
              "      background-color: #3B4455;\n",
              "      fill: #D2E3FC;\n",
              "    }\n",
              "\n",
              "    [theme=dark] .colab-df-convert:hover {\n",
              "      background-color: #434B5C;\n",
              "      box-shadow: 0px 1px 3px 1px rgba(0, 0, 0, 0.15);\n",
              "      filter: drop-shadow(0px 1px 2px rgba(0, 0, 0, 0.3));\n",
              "      fill: #FFFFFF;\n",
              "    }\n",
              "  </style>\n",
              "\n",
              "      <script>\n",
              "        const buttonEl =\n",
              "          document.querySelector('#df-b021ed05-08fe-44e6-8b88-0356c643d3d6 button.colab-df-convert');\n",
              "        buttonEl.style.display =\n",
              "          google.colab.kernel.accessAllowed ? 'block' : 'none';\n",
              "\n",
              "        async function convertToInteractive(key) {\n",
              "          const element = document.querySelector('#df-b021ed05-08fe-44e6-8b88-0356c643d3d6');\n",
              "          const dataTable =\n",
              "            await google.colab.kernel.invokeFunction('convertToInteractive',\n",
              "                                                     [key], {});\n",
              "          if (!dataTable) return;\n",
              "\n",
              "          const docLinkHtml = 'Like what you see? Visit the ' +\n",
              "            '<a target=\"_blank\" href=https://colab.research.google.com/notebooks/data_table.ipynb>data table notebook</a>'\n",
              "            + ' to learn more about interactive tables.';\n",
              "          element.innerHTML = '';\n",
              "          dataTable['output_type'] = 'display_data';\n",
              "          await google.colab.output.renderOutput(dataTable, element);\n",
              "          const docLink = document.createElement('div');\n",
              "          docLink.innerHTML = docLinkHtml;\n",
              "          element.appendChild(docLink);\n",
              "        }\n",
              "      </script>\n",
              "    </div>\n",
              "  </div>\n",
              "  "
            ]
          },
          "metadata": {},
          "execution_count": 40
        }
      ]
    },
    {
      "cell_type": "code",
      "source": [
        "line_definitions.head()"
      ],
      "metadata": {
        "colab": {
          "base_uri": "https://localhost:8080/",
          "height": 206
        },
        "id": "Qtm8lyN3Gxzs",
        "outputId": "059da620-aa50-4ae6-f7ed-0ca8878d8b7b"
      },
      "execution_count": null,
      "outputs": [
        {
          "output_type": "execute_result",
          "data": {
            "text/plain": [
              "   station1  station2  line\n",
              "0        11       163     1\n",
              "1        11       212     1\n",
              "2        49        87     1\n",
              "3        49       197     1\n",
              "4        82       163     1"
            ],
            "text/html": [
              "\n",
              "  <div id=\"df-10c92ba8-86da-41e0-b18e-8b88bbe98752\">\n",
              "    <div class=\"colab-df-container\">\n",
              "      <div>\n",
              "<style scoped>\n",
              "    .dataframe tbody tr th:only-of-type {\n",
              "        vertical-align: middle;\n",
              "    }\n",
              "\n",
              "    .dataframe tbody tr th {\n",
              "        vertical-align: top;\n",
              "    }\n",
              "\n",
              "    .dataframe thead th {\n",
              "        text-align: right;\n",
              "    }\n",
              "</style>\n",
              "<table border=\"1\" class=\"dataframe\">\n",
              "  <thead>\n",
              "    <tr style=\"text-align: right;\">\n",
              "      <th></th>\n",
              "      <th>station1</th>\n",
              "      <th>station2</th>\n",
              "      <th>line</th>\n",
              "    </tr>\n",
              "  </thead>\n",
              "  <tbody>\n",
              "    <tr>\n",
              "      <th>0</th>\n",
              "      <td>11</td>\n",
              "      <td>163</td>\n",
              "      <td>1</td>\n",
              "    </tr>\n",
              "    <tr>\n",
              "      <th>1</th>\n",
              "      <td>11</td>\n",
              "      <td>212</td>\n",
              "      <td>1</td>\n",
              "    </tr>\n",
              "    <tr>\n",
              "      <th>2</th>\n",
              "      <td>49</td>\n",
              "      <td>87</td>\n",
              "      <td>1</td>\n",
              "    </tr>\n",
              "    <tr>\n",
              "      <th>3</th>\n",
              "      <td>49</td>\n",
              "      <td>197</td>\n",
              "      <td>1</td>\n",
              "    </tr>\n",
              "    <tr>\n",
              "      <th>4</th>\n",
              "      <td>82</td>\n",
              "      <td>163</td>\n",
              "      <td>1</td>\n",
              "    </tr>\n",
              "  </tbody>\n",
              "</table>\n",
              "</div>\n",
              "      <button class=\"colab-df-convert\" onclick=\"convertToInteractive('df-10c92ba8-86da-41e0-b18e-8b88bbe98752')\"\n",
              "              title=\"Convert this dataframe to an interactive table.\"\n",
              "              style=\"display:none;\">\n",
              "        \n",
              "  <svg xmlns=\"http://www.w3.org/2000/svg\" height=\"24px\"viewBox=\"0 0 24 24\"\n",
              "       width=\"24px\">\n",
              "    <path d=\"M0 0h24v24H0V0z\" fill=\"none\"/>\n",
              "    <path d=\"M18.56 5.44l.94 2.06.94-2.06 2.06-.94-2.06-.94-.94-2.06-.94 2.06-2.06.94zm-11 1L8.5 8.5l.94-2.06 2.06-.94-2.06-.94L8.5 2.5l-.94 2.06-2.06.94zm10 10l.94 2.06.94-2.06 2.06-.94-2.06-.94-.94-2.06-.94 2.06-2.06.94z\"/><path d=\"M17.41 7.96l-1.37-1.37c-.4-.4-.92-.59-1.43-.59-.52 0-1.04.2-1.43.59L10.3 9.45l-7.72 7.72c-.78.78-.78 2.05 0 2.83L4 21.41c.39.39.9.59 1.41.59.51 0 1.02-.2 1.41-.59l7.78-7.78 2.81-2.81c.8-.78.8-2.07 0-2.86zM5.41 20L4 18.59l7.72-7.72 1.47 1.35L5.41 20z\"/>\n",
              "  </svg>\n",
              "      </button>\n",
              "      \n",
              "  <style>\n",
              "    .colab-df-container {\n",
              "      display:flex;\n",
              "      flex-wrap:wrap;\n",
              "      gap: 12px;\n",
              "    }\n",
              "\n",
              "    .colab-df-convert {\n",
              "      background-color: #E8F0FE;\n",
              "      border: none;\n",
              "      border-radius: 50%;\n",
              "      cursor: pointer;\n",
              "      display: none;\n",
              "      fill: #1967D2;\n",
              "      height: 32px;\n",
              "      padding: 0 0 0 0;\n",
              "      width: 32px;\n",
              "    }\n",
              "\n",
              "    .colab-df-convert:hover {\n",
              "      background-color: #E2EBFA;\n",
              "      box-shadow: 0px 1px 2px rgba(60, 64, 67, 0.3), 0px 1px 3px 1px rgba(60, 64, 67, 0.15);\n",
              "      fill: #174EA6;\n",
              "    }\n",
              "\n",
              "    [theme=dark] .colab-df-convert {\n",
              "      background-color: #3B4455;\n",
              "      fill: #D2E3FC;\n",
              "    }\n",
              "\n",
              "    [theme=dark] .colab-df-convert:hover {\n",
              "      background-color: #434B5C;\n",
              "      box-shadow: 0px 1px 3px 1px rgba(0, 0, 0, 0.15);\n",
              "      filter: drop-shadow(0px 1px 2px rgba(0, 0, 0, 0.3));\n",
              "      fill: #FFFFFF;\n",
              "    }\n",
              "  </style>\n",
              "\n",
              "      <script>\n",
              "        const buttonEl =\n",
              "          document.querySelector('#df-10c92ba8-86da-41e0-b18e-8b88bbe98752 button.colab-df-convert');\n",
              "        buttonEl.style.display =\n",
              "          google.colab.kernel.accessAllowed ? 'block' : 'none';\n",
              "\n",
              "        async function convertToInteractive(key) {\n",
              "          const element = document.querySelector('#df-10c92ba8-86da-41e0-b18e-8b88bbe98752');\n",
              "          const dataTable =\n",
              "            await google.colab.kernel.invokeFunction('convertToInteractive',\n",
              "                                                     [key], {});\n",
              "          if (!dataTable) return;\n",
              "\n",
              "          const docLinkHtml = 'Like what you see? Visit the ' +\n",
              "            '<a target=\"_blank\" href=https://colab.research.google.com/notebooks/data_table.ipynb>data table notebook</a>'\n",
              "            + ' to learn more about interactive tables.';\n",
              "          element.innerHTML = '';\n",
              "          dataTable['output_type'] = 'display_data';\n",
              "          await google.colab.output.renderOutput(dataTable, element);\n",
              "          const docLink = document.createElement('div');\n",
              "          docLink.innerHTML = docLinkHtml;\n",
              "          element.appendChild(docLink);\n",
              "        }\n",
              "      </script>\n",
              "    </div>\n",
              "  </div>\n",
              "  "
            ]
          },
          "metadata": {},
          "execution_count": 41
        }
      ]
    },
    {
      "cell_type": "code",
      "source": [
        "print(\"Number of stations:\", len(stations))\n",
        "print(\"Number of lines:\", len(routes))\n",
        "print(\"Number of connections:\", len(line_definitions))"
      ],
      "metadata": {
        "colab": {
          "base_uri": "https://localhost:8080/"
        },
        "id": "mdkxkfIMGZMX",
        "outputId": "c9a5f1d1-3bdc-42ca-c4a3-a946f0e5e7ee"
      },
      "execution_count": null,
      "outputs": [
        {
          "output_type": "stream",
          "name": "stdout",
          "text": [
            "Number of stations: 308\n",
            "Number of lines: 13\n",
            "Number of connections: 415\n"
          ]
        }
      ]
    },
    {
      "cell_type": "markdown",
      "source": [
        "describe the three tables"
      ],
      "metadata": {
        "id": "b_IVGTaLG1w7"
      }
    },
    {
      "cell_type": "markdown",
      "source": [
        "##Data: The London Underground Network"
      ],
      "metadata": {
        "id": "uGP_Tdo2B3nM"
      }
    },
    {
      "cell_type": "code",
      "source": [
        "connections = pd.DataFrame(columns=['line',\t'line_name',\t'line_colour', 'station1', 'station1_name', 'station1_long','station1_lat', 'station1_zone', 'station1_total_lines',\t'station1_rail', 'station2', 'station2_name', 'station2_long','station2_lat', 'station2_zone', 'station2_total_lines',\t'station2_rail'])\n",
        "connections = connections.iloc[0:0]"
      ],
      "metadata": {
        "id": "kjC62RPneLEP"
      },
      "execution_count": null,
      "outputs": []
    },
    {
      "cell_type": "code",
      "source": [
        "for index, row in line_definitions.iterrows():\n",
        "  connections = connections.append({'line': row[2],\n",
        "                                    'line_name': routes[routes['line']==row[2]]['name'].item(),\n",
        "                                    'line_colour': routes[routes['line']==row[2]]['colour'].item(),\n",
        "                                    'station1': row[0],\n",
        "                                    'station1_name': stations[stations['id']==row[0]]['name'].item(),\n",
        "                                    'station1_long': stations[stations['id']==row[0]]['longitude'].item(),\n",
        "                                    'station1_lat': stations[stations['id']==row[0]]['latitude'].item(),\n",
        "                                    'station1_zone': stations[stations['id']==row[0]]['zone'].item(),\n",
        "                                    'station1_total_lines': stations[stations['id']==row[0]]['total_lines'].item(),\n",
        "                                    'station1_rail': stations[stations['id']==row[0]]['rail'].item(),\n",
        "                                    'station2': row[1],\n",
        "                                    'station2_name': stations[stations['id']==row[1]]['name'].item(),\n",
        "                                    'station2_long': stations[stations['id']==row[1]]['longitude'].item(),\n",
        "                                    'station2_lat': stations[stations['id']==row[1]]['latitude'].item(),\n",
        "                                    'station2_zone': stations[stations['id']==row[1]]['zone'].item(),\n",
        "                                    'station2_total_lines': stations[stations['id']==row[1]]['total_lines'].item(),\n",
        "                                    'station2_rail': stations[stations['id']==row[1]]['rail'].item(),\n",
        "                                    }, ignore_index=True)"
      ],
      "metadata": {
        "id": "KwgC6FvSYC1D"
      },
      "execution_count": null,
      "outputs": []
    },
    {
      "cell_type": "code",
      "source": [
        "edgelist = connections[['station1', 'station2', 'line_colour']]\n",
        "nodelist = stations[['id','latitude','longitude']]"
      ],
      "metadata": {
        "id": "mh1u4qxFCrqk"
      },
      "execution_count": null,
      "outputs": []
    },
    {
      "cell_type": "code",
      "source": [
        "g = nx.Graph()\n",
        "for i, elrow in edgelist.iterrows():\n",
        "    g.add_edge(elrow[0], elrow[1], **elrow[2:].to_dict())\n",
        "for i, nlrow in nodelist.iterrows():\n",
        "    nx.set_node_attributes(g, {nlrow['id']:  nlrow[1:].to_dict()})  "
      ],
      "metadata": {
        "id": "TYRI7zibCwQp"
      },
      "execution_count": null,
      "outputs": []
    },
    {
      "cell_type": "code",
      "source": [
        "node_positions_as_dict = {x[0]: x[1] for x in list(g.nodes(data=True))}\n",
        "node_positions_final = {key: value for key, value in node_positions_as_dict.items()}\n",
        "node_positions = {node[0]: (node[1]['longitude'], node[1]['latitude']) for node in list(g.nodes(data=True))}"
      ],
      "metadata": {
        "id": "P0_QK7y-CyXT"
      },
      "execution_count": null,
      "outputs": []
    },
    {
      "cell_type": "code",
      "source": [
        "#Convert HEX colours to RGB colours\n",
        "line_colours = {\n",
        "        'ab6612': (171, 102, 18),\n",
        "        '0076bd': (0, 118, 189),\n",
        "        'f7dc00': (247, 220, 0),\n",
        "        'f5a6b3': (245, 166, 179),\n",
        "        '767b7f': (118, 123, 127),\n",
        "        '0d6928': (0, 114, 41),\n",
        "        'df002c': (220, 36, 31),\n",
        "        '8b004c': (117, 16, 86),\n",
        "        'f3ba22': (243, 186, 34),\n",
        "        '000000': (0, 0, 0),\n",
        "        '002d73': (0, 45, 115),\n",
        "        '89cbc1': (137, 203, 193),\n",
        "        '00A77E':(0,167,126)\n",
        "}\n",
        "\n",
        "# Convert RGB colours to [0,1] scale\n",
        "line_colours = {line: tuple([x / 255.0 for x in rgb]) for line, rgb in line_colours.items()}\n",
        "\n",
        "# Set these as options for drawing graph\n",
        "options = {\n",
        "    'edge_color': [line_colours[data['line_colour']] for u,v,data in g.edges(data=True)],\n",
        "    'width': 1.5,\n",
        "    'alpha': 1,\n",
        "}"
      ],
      "metadata": {
        "id": "9GVjAG8SC0Fl"
      },
      "execution_count": null,
      "outputs": []
    },
    {
      "cell_type": "code",
      "source": [
        "plt.figure(figsize=(12, 8))\n",
        "nx.draw(g, pos=node_positions, node_size=3, node_color='black', **options)\n",
        "plt.title('Graph Representation of London Underground Network', size=20)"
      ],
      "metadata": {
        "colab": {
          "base_uri": "https://localhost:8080/",
          "height": 201
        },
        "id": "3_J6tg4-RhV2",
        "outputId": "8ffbe0de-1860-4aed-f739-4354999a008d"
      },
      "execution_count": null,
      "outputs": [
        {
          "output_type": "error",
          "ename": "NameError",
          "evalue": "ignored",
          "traceback": [
            "\u001b[0;31m---------------------------------------------------------------------------\u001b[0m",
            "\u001b[0;31mNameError\u001b[0m                                 Traceback (most recent call last)",
            "\u001b[0;32m<ipython-input-1-abe4c52eaf51>\u001b[0m in \u001b[0;36m<module>\u001b[0;34m()\u001b[0m\n\u001b[0;32m----> 1\u001b[0;31m \u001b[0mplt\u001b[0m\u001b[0;34m.\u001b[0m\u001b[0mfigure\u001b[0m\u001b[0;34m(\u001b[0m\u001b[0mfigsize\u001b[0m\u001b[0;34m=\u001b[0m\u001b[0;34m(\u001b[0m\u001b[0;36m12\u001b[0m\u001b[0;34m,\u001b[0m \u001b[0;36m8\u001b[0m\u001b[0;34m)\u001b[0m\u001b[0;34m)\u001b[0m\u001b[0;34m\u001b[0m\u001b[0;34m\u001b[0m\u001b[0m\n\u001b[0m\u001b[1;32m      2\u001b[0m \u001b[0mnx\u001b[0m\u001b[0;34m.\u001b[0m\u001b[0mdraw\u001b[0m\u001b[0;34m(\u001b[0m\u001b[0mg\u001b[0m\u001b[0;34m,\u001b[0m \u001b[0mpos\u001b[0m\u001b[0;34m=\u001b[0m\u001b[0mnode_positions\u001b[0m\u001b[0;34m,\u001b[0m \u001b[0mnode_size\u001b[0m\u001b[0;34m=\u001b[0m\u001b[0;36m3\u001b[0m\u001b[0;34m,\u001b[0m \u001b[0mnode_color\u001b[0m\u001b[0;34m=\u001b[0m\u001b[0;34m'black'\u001b[0m\u001b[0;34m,\u001b[0m \u001b[0;34m**\u001b[0m\u001b[0moptions\u001b[0m\u001b[0;34m)\u001b[0m\u001b[0;34m\u001b[0m\u001b[0;34m\u001b[0m\u001b[0m\n\u001b[1;32m      3\u001b[0m \u001b[0mplt\u001b[0m\u001b[0;34m.\u001b[0m\u001b[0mtitle\u001b[0m\u001b[0;34m(\u001b[0m\u001b[0;34m'Graph Representation of London Underground Network'\u001b[0m\u001b[0;34m,\u001b[0m \u001b[0msize\u001b[0m\u001b[0;34m=\u001b[0m\u001b[0;36m20\u001b[0m\u001b[0;34m)\u001b[0m\u001b[0;34m\u001b[0m\u001b[0;34m\u001b[0m\u001b[0m\n",
            "\u001b[0;31mNameError\u001b[0m: name 'plt' is not defined"
          ]
        }
      ]
    },
    {
      "cell_type": "markdown",
      "source": [
        "## Finding shortest journey between stations"
      ],
      "metadata": {
        "id": "TVJzN-IyEm-C"
      }
    },
    {
      "cell_type": "markdown",
      "source": [
        "Distance between stations is calculated from longitude and latitude with the [Haversine formula](https://en.wikipedia.org/wiki/Haversine_formula), which is a formula for calculating spherical distance."
      ],
      "metadata": {
        "id": "fudP0ujqE3mE"
      }
    },
    {
      "cell_type": "code",
      "source": [
        "from math import cos, asin, sqrt, pi\n",
        "def distance(lat1, lon1, lat2, lon2):\n",
        "    p = pi/180\n",
        "    a = 0.5 - cos((lat2-lat1)*p)/2 + cos(lat1*p) * cos(lat2*p) * (1-cos((lon2-lon1)*p))/2\n",
        "    return 12742 * asin(sqrt(a))"
      ],
      "metadata": {
        "id": "pZ1rGUwpEcpT"
      },
      "execution_count": null,
      "outputs": []
    },
    {
      "cell_type": "code",
      "source": [
        "distances=[]\n",
        "for index, row in connections.iterrows():\n",
        "  distances.append(distance(row[6], row[5], row[13], row[12]))\n",
        "connections['distance'] = distances"
      ],
      "metadata": {
        "id": "zoueByIfEdE-"
      },
      "execution_count": null,
      "outputs": []
    },
    {
      "cell_type": "code",
      "source": [
        "graph_distance = nx.Graph()\n",
        "for connection_id, connection in connections.iterrows():\n",
        "    graph_distance.add_edge(connection['station1_name'], connection['station2_name'], weight = connection['distance'])"
      ],
      "metadata": {
        "id": "nkYxPtnAEayb"
      },
      "execution_count": null,
      "outputs": []
    },
    {
      "cell_type": "code",
      "source": [
        "for i in ['Holborn', 'Euston']:\n",
        "  print(f\"\\n{i} station is directly connected to:\", *list(graph_distance.neighbors(i)), sep='\\n\\t', )"
      ],
      "metadata": {
        "colab": {
          "base_uri": "https://localhost:8080/"
        },
        "id": "gEifjy1TFlYV",
        "outputId": "9d96682b-d015-4e2e-8a0f-68d870f8b4ed"
      },
      "execution_count": null,
      "outputs": [
        {
          "output_type": "stream",
          "name": "stdout",
          "text": [
            "\n",
            "Holborn station is directly connected to:\n",
            "\tChancery Lane\n",
            "\tTottenham Court Road\n",
            "\tCovent Garden\n",
            "\tRussell Square\n",
            "\n",
            "Euston station is directly connected to:\n",
            "\tCamden Town\n",
            "\tKing's Cross St. Pancras\n",
            "\tMornington Crescent\n",
            "\tWarren Street\n"
          ]
        }
      ]
    },
    {
      "cell_type": "code",
      "source": [
        "def shortest_route(start, end):\n",
        "    journey_path = nx.shortest_path(graph_distance, start, end, weight='weight')\n",
        "    journey_distance = nx.shortest_path_length(graph_distance, start, end, weight='weight')\n",
        "    print(f'\\nShortest Tube-Distance Journey from {start} to {end}:', *journey_path, sep='\\n\\t')\n",
        "    print('\\nJourney Distance:', journey_distance, 'kilometers')"
      ],
      "metadata": {
        "id": "vWDBayTzGC7f"
      },
      "execution_count": null,
      "outputs": []
    },
    {
      "cell_type": "code",
      "source": [
        "shortest_route('Waterloo', 'Euston')"
      ],
      "metadata": {
        "colab": {
          "base_uri": "https://localhost:8080/"
        },
        "id": "joLvaVPnGIXF",
        "outputId": "8fbdb2bb-0756-4da1-d5ca-f9f560a0552c"
      },
      "execution_count": null,
      "outputs": [
        {
          "output_type": "stream",
          "name": "stdout",
          "text": [
            "\n",
            "Shortest Tube-Distance Journey from Waterloo to Euston:\n",
            "\tWaterloo\n",
            "\tEmbankment\n",
            "\tCharing Cross\n",
            "\tLeicester Square\n",
            "\tTottenham Court Road\n",
            "\tGoodge Street\n",
            "\tWarren Street\n",
            "\tEuston\n",
            "\n",
            "Journey Distance: 3.4763636864651986 kilometers\n"
          ]
        }
      ]
    },
    {
      "cell_type": "code",
      "source": [
        "#Jubilee goes directly from Canary Wharf to Covent Garden, and it takes 30 min on Google Maps,\n",
        "#This shortest_distance journey includes 2 changes, from DLR ==> Central ==> Piccadily, and takes 34 min on Google Maps\n",
        "shortest_route('Canary Wharf', 'Covent Garden')"
      ],
      "metadata": {
        "colab": {
          "base_uri": "https://localhost:8080/"
        },
        "id": "4fWWIfauGUMG",
        "outputId": "aacc7ccb-9090-4ce3-8123-8e16eb3869a9"
      },
      "execution_count": null,
      "outputs": [
        {
          "output_type": "stream",
          "name": "stdout",
          "text": [
            "\n",
            "Shortest Tube-Distance Journey from Canary Wharf to Covent Garden:\n",
            "\tCanary Wharf\n",
            "\tWest India Quay\n",
            "\tWestferry\n",
            "\tLimehouse\n",
            "\tShadwell\n",
            "\tBank\n",
            "\tSt. Paul's\n",
            "\tChancery Lane\n",
            "\tHolborn\n",
            "\tCovent Garden\n",
            "\n",
            "Journey Distance: 7.96831555899172 kilometers\n"
          ]
        }
      ]
    },
    {
      "cell_type": "markdown",
      "source": [
        "###Split stations to station*line(platforms) to address transit cost:"
      ],
      "metadata": {
        "id": "awOeLgSB8wxE"
      }
    },
    {
      "cell_type": "code",
      "source": [
        "stations_ = stations\n",
        "stations_['line']=range(len(stations_.index))"
      ],
      "metadata": {
        "id": "L4Ihof2LfsVi"
      },
      "execution_count": null,
      "outputs": []
    },
    {
      "cell_type": "code",
      "source": [
        "two_lines = stations[stations['total_lines'] > 1]\n",
        "three_lines = stations[stations['total_lines'] > 2]\n",
        "four_lines = stations[stations['total_lines'] > 3]\n",
        "five_lines = stations[stations['total_lines'] > 4]\n",
        "six_lines = stations[stations['total_lines'] > 5]\n",
        "stations_ = stations_.append([two_lines],ignore_index=True)\n",
        "stations_ = stations_.append([three_lines],ignore_index=True)\n",
        "stations_ = stations_.append([four_lines],ignore_index=True)\n",
        "stations_ = stations_.append([five_lines],ignore_index=True)\n",
        "stations_ = stations_.append([six_lines],ignore_index=True)"
      ],
      "metadata": {
        "id": "R2Om-V64IYTk"
      },
      "execution_count": null,
      "outputs": []
    },
    {
      "cell_type": "code",
      "source": [
        "ilist=[]\n",
        "for i in range(1,310):\n",
        "  try:\n",
        "    stations_.loc[stations_['id']==i, 'line'] = np.unique(np.concatenate((line_definitions[line_definitions['station1']==i]['line'].unique(), line_definitions[line_definitions['station2']==i]['line'].unique())))\n",
        "  except:\n",
        "    ilist.append(i)\n",
        "    pass\n",
        "ilist"
      ],
      "metadata": {
        "colab": {
          "base_uri": "https://localhost:8080/"
        },
        "id": "l2UsWkLGxc6P",
        "outputId": "70dd8565-4e26-4551-cbdd-50f86e27db4d"
      },
      "execution_count": null,
      "outputs": [
        {
          "output_type": "execute_result",
          "data": {
            "text/plain": [
              "[95, 150, 227, 254]"
            ]
          },
          "metadata": {},
          "execution_count": 8
        }
      ]
    },
    {
      "cell_type": "code",
      "source": [
        "for i in ilist:\n",
        "  print(stations_.loc[stations_['id']==i, 'total_lines'])"
      ],
      "metadata": {
        "colab": {
          "base_uri": "https://localhost:8080/"
        },
        "id": "M6cei5-kyxj3",
        "outputId": "d940e346-4fdf-4798-f4d0-1b695d873de6"
      },
      "execution_count": null,
      "outputs": [
        {
          "output_type": "stream",
          "name": "stdout",
          "text": [
            "78    1\n",
            "Name: total_lines, dtype: int64\n",
            "131    1\n",
            "Name: total_lines, dtype: int64\n",
            "198    1\n",
            "Name: total_lines, dtype: int64\n",
            "223    2\n",
            "367    2\n",
            "Name: total_lines, dtype: int64\n"
          ]
        }
      ]
    },
    {
      "cell_type": "code",
      "source": [
        "for i in ilist:\n",
        "  print(np.unique(np.concatenate((line_definitions[line_definitions['station1']==i]['line'].unique(), line_definitions[line_definitions['station2']==i]['line'].unique()))))"
      ],
      "metadata": {
        "colab": {
          "base_uri": "https://localhost:8080/"
        },
        "id": "7o2ulqmoylNm",
        "outputId": "d0a26074-2f20-4859-d3a2-1c2959c7e771"
      },
      "execution_count": null,
      "outputs": [
        {
          "output_type": "stream",
          "name": "stdout",
          "text": [
            "[10 11]\n",
            "[3 6]\n",
            "[3 6]\n",
            "[7]\n"
          ]
        }
      ]
    },
    {
      "cell_type": "code",
      "source": [
        "stations_ = stations\n",
        "stations_['line']=range(len(stations_.index))"
      ],
      "metadata": {
        "id": "8q_oR6iZ0FAN"
      },
      "execution_count": null,
      "outputs": []
    },
    {
      "cell_type": "code",
      "source": [
        "stations.loc[stations['id']==95, 'total_lines'] = 2 \n",
        "stations.loc[stations['id']==150, 'total_lines'] = 2 \n",
        "stations.loc[stations['id']==227, 'total_lines'] = 2 \n",
        "stations.loc[stations['id']==254, 'total_lines'] = 1 "
      ],
      "metadata": {
        "id": "V5aGjignow6v"
      },
      "execution_count": null,
      "outputs": []
    },
    {
      "cell_type": "code",
      "source": [
        "two_lines = stations[stations['total_lines'] > 1]\n",
        "three_lines = stations[stations['total_lines'] > 2]\n",
        "four_lines = stations[stations['total_lines'] > 3]\n",
        "five_lines = stations[stations['total_lines'] > 4]\n",
        "six_lines = stations[stations['total_lines'] > 5]\n",
        "stations_ = stations_.append([two_lines],ignore_index=True)\n",
        "stations_ = stations_.append([three_lines],ignore_index=True)\n",
        "stations_ = stations_.append([four_lines],ignore_index=True)\n",
        "stations_ = stations_.append([five_lines],ignore_index=True)\n",
        "stations_ = stations_.append([six_lines],ignore_index=True)"
      ],
      "metadata": {
        "id": "J9oSPa1kyYFn"
      },
      "execution_count": null,
      "outputs": []
    },
    {
      "cell_type": "code",
      "source": [
        "ilist=[]\n",
        "for i in range(1,310):\n",
        "  try:\n",
        "    stations_.loc[stations_['id']==i, 'line'] = np.unique(np.concatenate((line_definitions[line_definitions['station1']==i]['line'].unique(), line_definitions[line_definitions['station2']==i]['line'].unique())))\n",
        "  except:\n",
        "    ilist.append(i)\n",
        "ilist"
      ],
      "metadata": {
        "colab": {
          "base_uri": "https://localhost:8080/"
        },
        "id": "KldefZrLuoo9",
        "outputId": "713e2ff0-7977-442d-8a4f-9093fc62ba2f"
      },
      "execution_count": null,
      "outputs": [
        {
          "output_type": "execute_result",
          "data": {
            "text/plain": [
              "[]"
            ]
          },
          "metadata": {},
          "execution_count": 15
        }
      ]
    },
    {
      "cell_type": "markdown",
      "source": [
        ""
      ],
      "metadata": {
        "id": "WtrWU8TDH_cF"
      }
    },
    {
      "cell_type": "markdown",
      "source": [
        "## dropping DLR"
      ],
      "metadata": {
        "id": "XAu_altA2M86"
      }
    },
    {
      "cell_type": "code",
      "source": [
        "tubes = stations_[stations_['line']<13]"
      ],
      "metadata": {
        "id": "z3WX1qEL2rJd"
      },
      "execution_count": null,
      "outputs": []
    },
    {
      "cell_type": "code",
      "source": [
        "tubes['idx']= range(len(tubes.index))"
      ],
      "metadata": {
        "id": "PC1MXf_J3KSB",
        "colab": {
          "base_uri": "https://localhost:8080/"
        },
        "outputId": "2f5cdb51-dc37-4da0-ba0d-4be4edcc4b76"
      },
      "execution_count": null,
      "outputs": [
        {
          "output_type": "stream",
          "name": "stderr",
          "text": [
            "/usr/local/lib/python3.7/dist-packages/ipykernel_launcher.py:1: SettingWithCopyWarning: \n",
            "A value is trying to be set on a copy of a slice from a DataFrame.\n",
            "Try using .loc[row_indexer,col_indexer] = value instead\n",
            "\n",
            "See the caveats in the documentation: https://pandas.pydata.org/pandas-docs/stable/user_guide/indexing.html#returning-a-view-versus-a-copy\n",
            "  \"\"\"Entry point for launching an IPython kernel.\n"
          ]
        }
      ]
    },
    {
      "cell_type": "markdown",
      "source": [
        "###making a connections dataframe with station*lines(platform) index"
      ],
      "metadata": {
        "id": "KThe0GNNWf5M"
      }
    },
    {
      "cell_type": "code",
      "source": [
        "line_definitions_ = pd.DataFrame(columns=['station1',\t'station2',\t'line']).iloc[0:0]"
      ],
      "metadata": {
        "id": "bLttZXjj94ig"
      },
      "execution_count": null,
      "outputs": []
    },
    {
      "cell_type": "code",
      "source": [
        "for index, row in line_definitions.iterrows():\n",
        "  line_definitions_ = line_definitions_.append({'station1': tubes.loc[tubes['id']==row[0]][tubes['line']==row[2]]['idx'].item(),\n",
        "                                                'station2': tubes.loc[tubes['id']==row[1]][tubes['line']==row[2]]['idx'].item(),\n",
        "                                                'line': row[2]}, ignore_index=True)\n",
        "line_definitions_ "
      ],
      "metadata": {
        "id": "f8WMBqkV9Ym9"
      },
      "execution_count": null,
      "outputs": []
    },
    {
      "cell_type": "code",
      "source": [
        "connections_ = pd.DataFrame(columns=['line',\t'line_name',\t'line_colour', 'station1', 'station1_name', 'station1_long','station1_lat', 'station1_zone', 'station1_total_lines',\t'station1_rail', 'station2', 'station2_name', 'station2_long','station2_lat', 'station2_zone', 'station2_total_lines',\t'station2_rail'])\n",
        "connections_ = connections.iloc[0:0]"
      ],
      "metadata": {
        "id": "OfOPAq_I8ebw"
      },
      "execution_count": null,
      "outputs": []
    },
    {
      "cell_type": "code",
      "source": [
        "for index, row in line_definitions_.iterrows():\n",
        "  connections_ = connections_.append({'line': row[2],\n",
        "                                      'line_name': routes[routes['line']==row[2]]['name'].item(),\n",
        "                                      'line_colour': routes[routes['line']==row[2]]['colour'].item(),\n",
        "                                      'station1': row[0],\n",
        "                                      'station1_name': tubes[tubes['idx']==row[0]]['name'].item(),\n",
        "                                      'station1_long': tubes[tubes['idx']==row[0]]['longitude'].item(),\n",
        "                                      'station1_lat': tubes[tubes['idx']==row[0]]['latitude'].item(),\n",
        "                                      'station1_zone': tubes[tubes['idx']==row[0]]['zone'].item(),\n",
        "                                      'station1_total_lines': tubes[tubes['idx']==row[0]]['total_lines'].item(),\n",
        "                                      'station1_rail': tubes[tubes['idx']==row[0]]['rail'].item(),\n",
        "                                      'station2': row[1],\n",
        "                                      'station2_name': tubes[tubes['idx']==row[1]]['name'].item(),\n",
        "                                      'station2_long': tubes[tubes['idx']==row[1]]['longitude'].item(),\n",
        "                                      'station2_lat': tubes[tubes['idx']==row[1]]['latitude'].item(),\n",
        "                                      'station2_zone': tubes[tubes['idx']==row[1]]['zone'].item(),\n",
        "                                      'station2_total_lines': tubes[tubes['idx']==row[1]]['total_lines'].item(),\n",
        "                                      'station2_rail': tubes[tubes['idx']==row[1]]['rail'].item(),\n",
        "                                      }, ignore_index=True)"
      ],
      "metadata": {
        "id": "jOo0h8bP8YFX"
      },
      "execution_count": null,
      "outputs": []
    },
    {
      "cell_type": "code",
      "source": [
        "distances=[]\n",
        "for index, row in connections_.iterrows():\n",
        "  distances.append(distance(row[6], row[5], row[13], row[12]))\n",
        "connections_['distance'] = distances"
      ],
      "metadata": {
        "id": "38-bFTN-FAJS"
      },
      "execution_count": null,
      "outputs": []
    },
    {
      "cell_type": "code",
      "source": [
        "connections__ = connections_[['station1', 'station1_name','station2', 'station2_name', 'distance']]"
      ],
      "metadata": {
        "id": "HvDJlb0BKMzn"
      },
      "execution_count": null,
      "outputs": []
    },
    {
      "cell_type": "code",
      "source": [
        "for i in range(1, 385):\n",
        "  test_list = tubes[tubes['id']==i]['idx'].tolist()\n",
        "  for j in [(a, b) for idx, a in enumerate(test_list) for b in test_list[idx + 1:]]:\n",
        "    connections__ = connections__.append({'station1': j[0],\n",
        "                                          'station1_name': tubes[tubes['idx']==j[0]]['name'].item(),\n",
        "                                          'station2': j[1],\n",
        "                                          'station2_name': tubes[tubes['idx']==j[1]]['name'].item(),\n",
        "                                          'distance': 1\n",
        "                                          }, ignore_index=True)"
      ],
      "metadata": {
        "id": "XpgxmWmwKRpA"
      },
      "execution_count": null,
      "outputs": []
    },
    {
      "cell_type": "markdown",
      "source": [
        "## shortest path algorithm to fill distance matrix"
      ],
      "metadata": {
        "id": "UQ1S-H5h25I-"
      }
    },
    {
      "cell_type": "code",
      "source": [
        "distance_x = np.zeros((275, 275))"
      ],
      "metadata": {
        "id": "re9AX7PmWEor"
      },
      "execution_count": null,
      "outputs": []
    },
    {
      "cell_type": "code",
      "source": [
        "graph_distance = nx.Graph()\n",
        "for connection_id, connection in connections__.iterrows():\n",
        "    graph_distance.add_edge(connection['station1'], connection['station2'], weight = connection['distance'])"
      ],
      "metadata": {
        "id": "ENoSkRAHGnQ9"
      },
      "execution_count": null,
      "outputs": []
    },
    {
      "cell_type": "code",
      "source": [
        "def distance(start, end):\n",
        "    journey_distance = nx.shortest_path_length(graph_distance, start, end, weight='weight')\n",
        "    return journey_distance"
      ],
      "metadata": {
        "id": "h-rJeG9vG44Z"
      },
      "execution_count": null,
      "outputs": []
    },
    {
      "cell_type": "code",
      "source": [
        "id275 = tubes_unique['id'].to_list()\n",
        "index = range(0, 275)\n",
        "id_dict = dict(zip(id275, index))"
      ],
      "metadata": {
        "id": "NALlMMAmbrUz"
      },
      "execution_count": null,
      "outputs": []
    },
    {
      "cell_type": "code",
      "source": [
        "for i in range(0, 384):\n",
        "  for j in range(0, 384):\n",
        "    distance_x[id_dict[tubes[tubes['idx']==i]['id'].item()], id_dict[tubes[tubes['idx']==j]['id'].item()]] = distance(i, j)"
      ],
      "metadata": {
        "id": "Mc-Y5X5AS3zx"
      },
      "execution_count": null,
      "outputs": []
    },
    {
      "cell_type": "code",
      "source": [
        "distance_x = np.load('distance_x.npy')"
      ],
      "metadata": {
        "id": "s-MfmO7cxQlx"
      },
      "execution_count": null,
      "outputs": []
    }
  ]
}