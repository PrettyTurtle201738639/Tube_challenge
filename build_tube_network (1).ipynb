{
 "cells": [
  {
   "cell_type": "markdown",
   "metadata": {},
   "source": [
    "<h1><center>Solving the Tube Challenge with Reinforcement Learning</center></h1> "
   ]
  },
  {
   "cell_type": "markdown",
   "metadata": {},
   "source": [
    "<center><h2> Table of Content</h2> </center>\n",
    "\n",
    "* [Introduction](#first-bullet) \n",
    "* [Data description](#second-bullet)\n",
    "* [Data processing](#third-bullet)\n",
    "* [Random Policy](#third-bullet)\n",
    "* [Q learning](#fourth-bullet)\n",
    "* [Double Q learning](#fith-bullet)\n",
    "* [Deep Q learning?](#fith-bullet)\n",
    "* [Conclusion](#sixth-bullet)\n",
    "\n",
    "\n",
    "   "
   ]
  },
  {
   "cell_type": "markdown",
   "metadata": {},
   "source": [
    "### Introduction <a class=\"anchor\" id=\"first-bullet\"></a>\n"
   ]
  },
  {
   "cell_type": "markdown",
   "metadata": {},
   "source": [
    "Our aim in this project is to use Reinforcement Learning to complete a slightly modified version of the Tube Challenge. \n",
    "\n",
    "To complete the Tube Challenge, one must simply travel to all London Underground stations as fast as possible. To do so, the particpant may connect between stations on foot, or by using other forms of public transport. In its core however, this challenge is a routing problems where participants must come up with the fastest and most efficient path to navigate the tube network. This competition has drawn a lot of attention over the years and the best performances are even tracked as a Guinness World Record since 1960.\n",
    "\n",
    "Below is a table showing the record holders that have appeared in the printed edition of the Guinness Book of Records"
   ]
  },
  {
   "cell_type": "code",
   "execution_count": 1,
   "metadata": {},
   "outputs": [
    {
     "data": {
      "text/html": [
       "<div>\n",
       "<style scoped>\n",
       "    .dataframe tbody tr th:only-of-type {\n",
       "        vertical-align: middle;\n",
       "    }\n",
       "\n",
       "    .dataframe tbody tr th {\n",
       "        vertical-align: top;\n",
       "    }\n",
       "\n",
       "    .dataframe thead th {\n",
       "        text-align: right;\n",
       "    }\n",
       "</style>\n",
       "<table border=\"1\" class=\"dataframe\">\n",
       "  <thead>\n",
       "    <tr style=\"text-align: right;\">\n",
       "      <th></th>\n",
       "      <th>Date</th>\n",
       "      <th>Record Holder(s)</th>\n",
       "      <th>Stations</th>\n",
       "      <th>Time</th>\n",
       "    </tr>\n",
       "  </thead>\n",
       "  <tbody>\n",
       "    <tr>\n",
       "      <th>10</th>\n",
       "      <td>20 May 1980</td>\n",
       "      <td>John Trafford and Stephen Trafford[12]</td>\n",
       "      <td>278</td>\n",
       "      <td>18 hours, 3 minutes</td>\n",
       "    </tr>\n",
       "    <tr>\n",
       "      <th>11</th>\n",
       "      <td>3 December 1981</td>\n",
       "      <td>Colm Mulvany[13]</td>\n",
       "      <td>277</td>\n",
       "      <td>17 hours, 37 minutes</td>\n",
       "    </tr>\n",
       "    <tr>\n",
       "      <th>12</th>\n",
       "      <td>22 July 1982</td>\n",
       "      <td>Peter Robinson (youngest person to tour all st...</td>\n",
       "      <td>277</td>\n",
       "      <td>Not given</td>\n",
       "    </tr>\n",
       "    <tr>\n",
       "      <th>13</th>\n",
       "      <td>14 April 1986</td>\n",
       "      <td>Robert Robinson, Peter David Robinson, John Ga...</td>\n",
       "      <td>272</td>\n",
       "      <td>19 hours, 51 minutes, 14 seconds</td>\n",
       "    </tr>\n",
       "    <tr>\n",
       "      <th>14</th>\n",
       "      <td>30 July 1986</td>\n",
       "      <td>Robert Robinson, Peter David Robinson, Timothy...</td>\n",
       "      <td>272</td>\n",
       "      <td>18 hours, 41 minutes, 41 seconds</td>\n",
       "    </tr>\n",
       "    <tr>\n",
       "      <th>15</th>\n",
       "      <td>4 October 1994</td>\n",
       "      <td>Robert Robinson and Tom McLaughlin[17]</td>\n",
       "      <td>270</td>\n",
       "      <td>18 hours, 18 minutes, 9 seconds</td>\n",
       "    </tr>\n",
       "    <tr>\n",
       "      <th>16</th>\n",
       "      <td>16 March 2000</td>\n",
       "      <td>Robert Robinson, Chris Loxton, Chris Stubley, ...</td>\n",
       "      <td>272</td>\n",
       "      <td>19 hours, 57 minutes, 47 seconds</td>\n",
       "    </tr>\n",
       "    <tr>\n",
       "      <th>17</th>\n",
       "      <td>26 September 2006</td>\n",
       "      <td>Håkan Wolgé and Lars Andersson[19]</td>\n",
       "      <td>275</td>\n",
       "      <td>18 hours, 25 minutes, 3 seconds</td>\n",
       "    </tr>\n",
       "    <tr>\n",
       "      <th>18</th>\n",
       "      <td>1 October 2013</td>\n",
       "      <td>Geoff Marshall and Anthony Smith [20]</td>\n",
       "      <td>270</td>\n",
       "      <td>16 hours, 20 minutes, 27 seconds</td>\n",
       "    </tr>\n",
       "    <tr>\n",
       "      <th>19</th>\n",
       "      <td>21 May 2015</td>\n",
       "      <td>Steve Wilson and AJ [21]</td>\n",
       "      <td>270</td>\n",
       "      <td>15 hours, 45 minutes, 38 seconds</td>\n",
       "    </tr>\n",
       "  </tbody>\n",
       "</table>\n",
       "</div>"
      ],
      "text/plain": [
       "                 Date                                   Record Holder(s)  \\\n",
       "10        20 May 1980             John Trafford and Stephen Trafford[12]   \n",
       "11    3 December 1981                                   Colm Mulvany[13]   \n",
       "12       22 July 1982  Peter Robinson (youngest person to tour all st...   \n",
       "13      14 April 1986  Robert Robinson, Peter David Robinson, John Ga...   \n",
       "14       30 July 1986  Robert Robinson, Peter David Robinson, Timothy...   \n",
       "15     4 October 1994             Robert Robinson and Tom McLaughlin[17]   \n",
       "16      16 March 2000  Robert Robinson, Chris Loxton, Chris Stubley, ...   \n",
       "17  26 September 2006                 Håkan Wolgé and Lars Andersson[19]   \n",
       "18     1 October 2013              Geoff Marshall and Anthony Smith [20]   \n",
       "19        21 May 2015                           Steve Wilson and AJ [21]   \n",
       "\n",
       "   Stations                              Time  \n",
       "10      278               18 hours, 3 minutes  \n",
       "11      277              17 hours, 37 minutes  \n",
       "12      277                         Not given  \n",
       "13      272  19 hours, 51 minutes, 14 seconds  \n",
       "14      272  18 hours, 41 minutes, 41 seconds  \n",
       "15      270   18 hours, 18 minutes, 9 seconds  \n",
       "16      272  19 hours, 57 minutes, 47 seconds  \n",
       "17      275   18 hours, 25 minutes, 3 seconds  \n",
       "18      270  16 hours, 20 minutes, 27 seconds  \n",
       "19      270  15 hours, 45 minutes, 38 seconds  "
      ]
     },
     "execution_count": 1,
     "metadata": {},
     "output_type": "execute_result"
    }
   ],
   "source": [
    "import requests\n",
    "from bs4 import BeautifulSoup\n",
    "import pandas as pd\n",
    "\n",
    "url = 'https://en.wikipedia.org/wiki/Tube_Challenge'\n",
    "page = requests.get(url)\n",
    "soup = BeautifulSoup(page.text, 'lxml')\n",
    "table1 = soup.find('table')\n",
    "headers = []\n",
    "\n",
    "for i in table1.find_all('th'):\n",
    "    title = i.text[:-1]\n",
    "    headers.append(title)\n",
    "mydata = pd.DataFrame(columns = headers)\n",
    "\n",
    "for j in table1.find_all('tr')[1:]:\n",
    "    row_data = j.find_all('td')\n",
    "    row = [i.text[:-1] for i in row_data]\n",
    "    length = len(mydata)\n",
    "    mydata.loc[length] = row\n",
    "mydata[10:]"
   ]
  },
  {
   "cell_type": "markdown",
   "metadata": {},
   "source": [
    "The Tube Challenge is a generalisation of the famous Travelling Salesman Problem (TSP) which is a typical optimization problem, where one has to find the shortest route to visit different locations. TSP are np-hard problems, meaning that they are exponentially hard to solve with brute force. To go pass this issue, many optimization techniques exist to solve TSPs from dynamic programming, branch and bound algorithms to nearest neighbors approximations or colonies optimizations."
   ]
  },
  {
   "cell_type": "markdown",
   "metadata": {},
   "source": [
    "Eventhough TSPs can be solved, Reinforcement Learning theoretically holds many advantages compared to classical optimization techniques :\n",
    "\n",
    "- It offers a general framework for all problems\n",
    "- It enables a \"live\" decision making algorithm\n",
    "- It is more robust to unknowns and aleatory perturbations"
   ]
  },
  {
   "cell_type": "markdown",
   "metadata": {},
   "source": [
    "Implementing the Tube Challenge poses some noteworthy difficulties:\n",
    "\n",
    "- Allowing for multiple modes of transport (walking and other public transport) is very challenging, as it adds layers of complexity and unknown variables to an already complex problem\n",
    "- No reliable data exist on the time it takes to go from one station to another\n",
    "- Not accounting for the cost (in time) of changing line could lead to a big bias in our final optimal path\n",
    "\n",
    "Henceforth, the setup of our project is slightly different from the classic Tube Challenge:\n",
    "\n",
    "- We will work with all of the 274 stations of the tube network \n",
    "- The tube will be the only mode of transport allowed to complete the challenge\n",
    "- Distance will be used as a proxy for time \n",
    "- We will Implement an arbitrary 1km penalty (the average distance between 2 stations) for changing lines"
   ]
  },
  {
   "cell_type": "markdown",
   "metadata": {},
   "source": [
    "This project is structured in the following way,\n",
    "\n",
    "First, we model the tube network using real life data on the tube stations, lines and their connections. We then use this network to build a function that finds the shortest route between any two stations.  Then, we implement a random policy and obtain the average distance and number of steps an agent could expect to take before completing the Tube Challenge. Subsequently, we compare these results with the results we obtain from our Q learning and double Q learning algorithms. We show that they exhibit significantly better performances and we finally use our shortest route function to unpack the optimal path from our algorithms. We conclude by interpreting our results and comparing them to real life results and strategies."
   ]
  },
  {
   "cell_type": "markdown",
   "metadata": {},
   "source": [
    "#The key to solving the Tube Challenge is to view it as a slightly modified TSP."
   ]
  },
  {
   "cell_type": "markdown",
   "metadata": {},
   "source": [
    "### Data description <a class=\"anchor\" id=\"second-bullet\"></a>\n",
    "\n",
    "The data we will be using to build our model is made available by Wikimedia Commons [London Underground geographic maps](https://commons.wikimedia.org/wiki/London_Underground_geographic_maps). It is composed of three different CSV files defining the stations, the lines and the routes of the London Tube."
   ]
  },
  {
   "cell_type": "code",
   "execution_count": 2,
   "metadata": {
    "executionInfo": {
     "elapsed": 945,
     "status": "ok",
     "timestamp": 1653210556243,
     "user": {
      "displayName": "Shan Gao",
      "userId": "01140183652841318337"
     },
     "user_tz": -60
    },
    "id": "8pt0SsXCK8US"
   },
   "outputs": [],
   "source": [
    "import pandas as pd\n",
    "import numpy as np\n",
    "import random\n",
    "import matplotlib.pyplot as plt"
   ]
  },
  {
   "cell_type": "code",
   "execution_count": 3,
   "metadata": {
    "colab": {
     "base_uri": "https://localhost:8080/"
    },
    "executionInfo": {
     "elapsed": 17717,
     "status": "ok",
     "timestamp": 1653210575321,
     "user": {
      "displayName": "Shan Gao",
      "userId": "01140183652841318337"
     },
     "user_tz": -60
    },
    "id": "nlU3zWkIG0q-",
    "outputId": "b8f65745-9c8a-4c80-d3dd-d71272313a3e"
   },
   "outputs": [],
   "source": [
    "#from google.colab import drive\n",
    "#drive.mount('/content/drive')\n",
    "#import os\n",
    "#os.chdir('drive/My Drive/RLproject')"
   ]
  },
  {
   "cell_type": "code",
   "execution_count": 4,
   "metadata": {
    "executionInfo": {
     "elapsed": 936,
     "status": "ok",
     "timestamp": 1653210579202,
     "user": {
      "displayName": "Shan Gao",
      "userId": "01140183652841318337"
     },
     "user_tz": -60
    },
    "id": "SBj9ey1zKMl8"
   },
   "outputs": [],
   "source": [
    "stations = pd.read_csv('/Users/adriensourdille/Desktop/Tube_challenge/stations.txt')\n",
    "routes = pd.read_csv('/Users/adriensourdille/Desktop/Tube_challenge/routes.txt')\n",
    "line_definitions = pd.read_csv('/Users/adriensourdille/Desktop/Tube_challenge/line_definitions.txt')"
   ]
  },
  {
   "cell_type": "code",
   "execution_count": 5,
   "metadata": {},
   "outputs": [
    {
     "name": "stdout",
     "output_type": "stream",
     "text": [
      "Number of stations: 308\n",
      "Number of lines: 13\n",
      "Number of connections: 415\n"
     ]
    }
   ],
   "source": [
    "print(\"Number of stations:\", len(stations))\n",
    "print(\"Number of lines:\", len(routes))\n",
    "print(\"Number of connections:\", len(line_definitions))"
   ]
  },
  {
   "cell_type": "code",
   "execution_count": 6,
   "metadata": {},
   "outputs": [
    {
     "data": {
      "text/html": [
       "<div>\n",
       "<style scoped>\n",
       "    .dataframe tbody tr th:only-of-type {\n",
       "        vertical-align: middle;\n",
       "    }\n",
       "\n",
       "    .dataframe tbody tr th {\n",
       "        vertical-align: top;\n",
       "    }\n",
       "\n",
       "    .dataframe thead th {\n",
       "        text-align: right;\n",
       "    }\n",
       "</style>\n",
       "<table border=\"1\" class=\"dataframe\">\n",
       "  <thead>\n",
       "    <tr style=\"text-align: right;\">\n",
       "      <th></th>\n",
       "      <th>id</th>\n",
       "      <th>latitude</th>\n",
       "      <th>longitude</th>\n",
       "      <th>zone</th>\n",
       "      <th>total_lines</th>\n",
       "      <th>rail</th>\n",
       "    </tr>\n",
       "  </thead>\n",
       "  <tbody>\n",
       "    <tr>\n",
       "      <th>count</th>\n",
       "      <td>308.000000</td>\n",
       "      <td>308.000000</td>\n",
       "      <td>308.000000</td>\n",
       "      <td>308.000000</td>\n",
       "      <td>308.000000</td>\n",
       "      <td>308.000000</td>\n",
       "    </tr>\n",
       "    <tr>\n",
       "      <th>mean</th>\n",
       "      <td>154.889610</td>\n",
       "      <td>51.533676</td>\n",
       "      <td>-0.151967</td>\n",
       "      <td>2.917208</td>\n",
       "      <td>1.363636</td>\n",
       "      <td>0.162338</td>\n",
       "    </tr>\n",
       "    <tr>\n",
       "      <th>std</th>\n",
       "      <td>89.469123</td>\n",
       "      <td>0.050572</td>\n",
       "      <td>0.150825</td>\n",
       "      <td>1.626470</td>\n",
       "      <td>0.751270</td>\n",
       "      <td>0.369360</td>\n",
       "    </tr>\n",
       "    <tr>\n",
       "      <th>min</th>\n",
       "      <td>1.000000</td>\n",
       "      <td>51.402200</td>\n",
       "      <td>-0.611000</td>\n",
       "      <td>1.000000</td>\n",
       "      <td>1.000000</td>\n",
       "      <td>0.000000</td>\n",
       "    </tr>\n",
       "    <tr>\n",
       "      <th>25%</th>\n",
       "      <td>77.750000</td>\n",
       "      <td>51.502700</td>\n",
       "      <td>-0.236600</td>\n",
       "      <td>2.000000</td>\n",
       "      <td>1.000000</td>\n",
       "      <td>0.000000</td>\n",
       "    </tr>\n",
       "    <tr>\n",
       "      <th>50%</th>\n",
       "      <td>154.500000</td>\n",
       "      <td>51.522200</td>\n",
       "      <td>-0.143350</td>\n",
       "      <td>2.500000</td>\n",
       "      <td>1.000000</td>\n",
       "      <td>0.000000</td>\n",
       "    </tr>\n",
       "    <tr>\n",
       "      <th>75%</th>\n",
       "      <td>232.250000</td>\n",
       "      <td>51.562450</td>\n",
       "      <td>-0.047600</td>\n",
       "      <td>4.000000</td>\n",
       "      <td>1.000000</td>\n",
       "      <td>0.000000</td>\n",
       "    </tr>\n",
       "    <tr>\n",
       "      <th>max</th>\n",
       "      <td>309.000000</td>\n",
       "      <td>51.705200</td>\n",
       "      <td>0.251000</td>\n",
       "      <td>9.000000</td>\n",
       "      <td>6.000000</td>\n",
       "      <td>1.000000</td>\n",
       "    </tr>\n",
       "  </tbody>\n",
       "</table>\n",
       "</div>"
      ],
      "text/plain": [
       "               id    latitude   longitude        zone  total_lines        rail\n",
       "count  308.000000  308.000000  308.000000  308.000000   308.000000  308.000000\n",
       "mean   154.889610   51.533676   -0.151967    2.917208     1.363636    0.162338\n",
       "std     89.469123    0.050572    0.150825    1.626470     0.751270    0.369360\n",
       "min      1.000000   51.402200   -0.611000    1.000000     1.000000    0.000000\n",
       "25%     77.750000   51.502700   -0.236600    2.000000     1.000000    0.000000\n",
       "50%    154.500000   51.522200   -0.143350    2.500000     1.000000    0.000000\n",
       "75%    232.250000   51.562450   -0.047600    4.000000     1.000000    0.000000\n",
       "max    309.000000   51.705200    0.251000    9.000000     6.000000    1.000000"
      ]
     },
     "execution_count": 6,
     "metadata": {},
     "output_type": "execute_result"
    }
   ],
   "source": [
    "stations.describe()"
   ]
  },
  {
   "cell_type": "markdown",
   "metadata": {},
   "source": [
    "The London Tube is divided in 9 zones, 13 lines and 308 stations. These include railroad stations that we will remove later on as they are not part of the Tube Challenge. The stations dataset includes the location (latitude and longitude) of these stations as well as their names and the zone they belong to. "
   ]
  },
  {
   "cell_type": "markdown",
   "metadata": {},
   "source": [
    "#### Building our network\n",
    "\n",
    "We will now build the tube network with the data we just acquired."
   ]
  },
  {
   "cell_type": "code",
   "execution_count": 7,
   "metadata": {
    "executionInfo": {
     "elapsed": 203,
     "status": "ok",
     "timestamp": 1653210626561,
     "user": {
      "displayName": "Shan Gao",
      "userId": "01140183652841318337"
     },
     "user_tz": -60
    },
    "id": "kjC62RPneLEP"
   },
   "outputs": [],
   "source": [
    "#Here, we add connections between the stations of the tube in order to build a connected tube network\n",
    "connections = pd.DataFrame(columns=['line',\t'line_name','line_colour', 'station1', 'station1_name', 'station1_long','station1_lat', 'station1_zone', 'station1_total_lines',\t'station1_rail', 'station2', 'station2_name', 'station2_long','station2_lat', 'station2_zone', 'station2_total_lines',\t'station2_rail'])\n",
    "connections = connections.iloc[0:0]"
   ]
  },
  {
   "cell_type": "code",
   "execution_count": 8,
   "metadata": {
    "executionInfo": {
     "elapsed": 4917,
     "status": "ok",
     "timestamp": 1653210631704,
     "user": {
      "displayName": "Shan Gao",
      "userId": "01140183652841318337"
     },
     "user_tz": -60
    },
    "id": "KwgC6FvSYC1D"
   },
   "outputs": [],
   "source": [
    "for index, row in line_definitions.iterrows():\n",
    "    connections = connections.append({'line': row[2],\n",
    "                                    'line_name': routes[routes['line']==row[2]]['name'].item(),\n",
    "                                    'line_colour': routes[routes['line']==row[2]]['colour'].item(),\n",
    "                                    'station1': row[0],\n",
    "                                    'station1_name': stations[stations['id']==row[0]]['name'].item(),\n",
    "                                    'station1_long': stations[stations['id']==row[0]]['longitude'].item(),\n",
    "                                    'station1_lat': stations[stations['id']==row[0]]['latitude'].item(),\n",
    "                                    'station1_zone': stations[stations['id']==row[0]]['zone'].item(),\n",
    "                                    'station1_total_lines': stations[stations['id']==row[0]]['total_lines'].item(),\n",
    "                                    'station1_rail': stations[stations['id']==row[0]]['rail'].item(),\n",
    "                                    'station2': row[1],\n",
    "                                    'station2_name': stations[stations['id']==row[1]]['name'].item(),\n",
    "                                    'station2_long': stations[stations['id']==row[1]]['longitude'].item(),\n",
    "                                    'station2_lat': stations[stations['id']==row[1]]['latitude'].item(),\n",
    "                                    'station2_zone': stations[stations['id']==row[1]]['zone'].item(),\n",
    "                                    'station2_total_lines': stations[stations['id']==row[1]]['total_lines'].item(),\n",
    "                                    'station2_rail': stations[stations['id']==row[1]]['rail'].item(),\n",
    "                                    }, ignore_index=True)\n"
   ]
  },
  {
   "cell_type": "code",
   "execution_count": 9,
   "metadata": {
    "colab": {
     "base_uri": "https://localhost:8080/",
     "height": 0
    },
    "executionInfo": {
     "elapsed": 15,
     "status": "ok",
     "timestamp": 1653210631707,
     "user": {
      "displayName": "Shan Gao",
      "userId": "01140183652841318337"
     },
     "user_tz": -60
    },
    "id": "Qwnszo8chlC7",
    "outputId": "b1491652-0f6b-4fef-c115-8aebd3fffa50"
   },
   "outputs": [],
   "source": [
    "edgelist = connections[['station1', 'station2', 'line_colour']]\n",
    "nodelist = stations[['id','latitude','longitude']]"
   ]
  },
  {
   "cell_type": "code",
   "execution_count": 10,
   "metadata": {},
   "outputs": [
    {
     "ename": "NameError",
     "evalue": "name 'nx' is not defined",
     "output_type": "error",
     "traceback": [
      "\u001b[0;31m---------------------------------------------------------------------------\u001b[0m",
      "\u001b[0;31mNameError\u001b[0m                                 Traceback (most recent call last)",
      "\u001b[0;32m/var/folders/st/75sgs9395hg5kwr269hz3ylr0000gn/T/ipykernel_4639/3965318016.py\u001b[0m in \u001b[0;36m<module>\u001b[0;34m\u001b[0m\n\u001b[0;32m----> 1\u001b[0;31m \u001b[0mg\u001b[0m \u001b[0;34m=\u001b[0m \u001b[0mnx\u001b[0m\u001b[0;34m.\u001b[0m\u001b[0mGraph\u001b[0m\u001b[0;34m(\u001b[0m\u001b[0;34m)\u001b[0m\u001b[0;34m\u001b[0m\u001b[0;34m\u001b[0m\u001b[0m\n\u001b[0m\u001b[1;32m      2\u001b[0m \u001b[0;32mfor\u001b[0m \u001b[0mi\u001b[0m\u001b[0;34m,\u001b[0m \u001b[0melrow\u001b[0m \u001b[0;32min\u001b[0m \u001b[0medgelist\u001b[0m\u001b[0;34m.\u001b[0m\u001b[0miterrows\u001b[0m\u001b[0;34m(\u001b[0m\u001b[0;34m)\u001b[0m\u001b[0;34m:\u001b[0m\u001b[0;34m\u001b[0m\u001b[0;34m\u001b[0m\u001b[0m\n\u001b[1;32m      3\u001b[0m     \u001b[0mg\u001b[0m\u001b[0;34m.\u001b[0m\u001b[0madd_edge\u001b[0m\u001b[0;34m(\u001b[0m\u001b[0melrow\u001b[0m\u001b[0;34m[\u001b[0m\u001b[0;36m0\u001b[0m\u001b[0;34m]\u001b[0m\u001b[0;34m,\u001b[0m \u001b[0melrow\u001b[0m\u001b[0;34m[\u001b[0m\u001b[0;36m1\u001b[0m\u001b[0;34m]\u001b[0m\u001b[0;34m,\u001b[0m \u001b[0;34m**\u001b[0m\u001b[0melrow\u001b[0m\u001b[0;34m[\u001b[0m\u001b[0;36m2\u001b[0m\u001b[0;34m:\u001b[0m\u001b[0;34m]\u001b[0m\u001b[0;34m.\u001b[0m\u001b[0mto_dict\u001b[0m\u001b[0;34m(\u001b[0m\u001b[0;34m)\u001b[0m\u001b[0;34m)\u001b[0m\u001b[0;34m\u001b[0m\u001b[0;34m\u001b[0m\u001b[0m\n\u001b[1;32m      4\u001b[0m \u001b[0;32mfor\u001b[0m \u001b[0mi\u001b[0m\u001b[0;34m,\u001b[0m \u001b[0mnlrow\u001b[0m \u001b[0;32min\u001b[0m \u001b[0mnodelist\u001b[0m\u001b[0;34m.\u001b[0m\u001b[0miterrows\u001b[0m\u001b[0;34m(\u001b[0m\u001b[0;34m)\u001b[0m\u001b[0;34m:\u001b[0m\u001b[0;34m\u001b[0m\u001b[0;34m\u001b[0m\u001b[0m\n\u001b[1;32m      5\u001b[0m     \u001b[0mnx\u001b[0m\u001b[0;34m.\u001b[0m\u001b[0mset_node_attributes\u001b[0m\u001b[0;34m(\u001b[0m\u001b[0mg\u001b[0m\u001b[0;34m,\u001b[0m \u001b[0;34m{\u001b[0m\u001b[0mnlrow\u001b[0m\u001b[0;34m[\u001b[0m\u001b[0;34m'id'\u001b[0m\u001b[0;34m]\u001b[0m\u001b[0;34m:\u001b[0m  \u001b[0mnlrow\u001b[0m\u001b[0;34m[\u001b[0m\u001b[0;36m1\u001b[0m\u001b[0;34m:\u001b[0m\u001b[0;34m]\u001b[0m\u001b[0;34m.\u001b[0m\u001b[0mto_dict\u001b[0m\u001b[0;34m(\u001b[0m\u001b[0;34m)\u001b[0m\u001b[0;34m}\u001b[0m\u001b[0;34m)\u001b[0m\u001b[0;34m\u001b[0m\u001b[0;34m\u001b[0m\u001b[0m\n",
      "\u001b[0;31mNameError\u001b[0m: name 'nx' is not defined"
     ]
    }
   ],
   "source": [
    "g = nx.Graph()\n",
    "for i, elrow in edgelist.iterrows():\n",
    "    g.add_edge(elrow[0], elrow[1], **elrow[2:].to_dict())\n",
    "for i, nlrow in nodelist.iterrows():\n",
    "    nx.set_node_attributes(g, {nlrow['id']:  nlrow[1:].to_dict()})  "
   ]
  },
  {
   "cell_type": "code",
   "execution_count": null,
   "metadata": {},
   "outputs": [],
   "source": [
    "node_positions_as_dict = {x[0]: x[1] for x in list(g.nodes(data=True))}\n",
    "node_positions_final = {key: value for key, value in node_positions_as_dict.items()}\n",
    "node_positions = {node[0]: (node[1]['longitude'], node[1]['latitude']) for node in list(g.nodes(data=True))}"
   ]
  },
  {
   "cell_type": "code",
   "execution_count": null,
   "metadata": {},
   "outputs": [],
   "source": [
    "#Convert HEX colours to RGB colours\n",
    "line_colours = {\n",
    "        'ab6612': (171, 102, 18),\n",
    "        '0076bd': (0, 118, 189),\n",
    "        'f7dc00': (247, 220, 0),\n",
    "        'f5a6b3': (245, 166, 179),\n",
    "        '767b7f': (118, 123, 127),\n",
    "        '0d6928': (0, 114, 41),\n",
    "        'df002c': (220, 36, 31),\n",
    "        '8b004c': (117, 16, 86),\n",
    "        'f3ba22': (243, 186, 34),\n",
    "        '000000': (0, 0, 0),\n",
    "        '002d73': (0, 45, 115),\n",
    "        '89cbc1': (137, 203, 193),\n",
    "        '00A77E':(0,167,126)\n",
    "}\n",
    "\n",
    "# Convert RGB colours to [0,1] scale\n",
    "line_colours = {line: tuple([x / 255.0 for x in rgb]) for line, rgb in line_colours.items()}\n",
    "\n",
    "# Set these as options for drawing graph\n",
    "options = {\n",
    "    'edge_color': [line_colours[data['line_colour']] for u,v,data in g.edges(data=True)],\n",
    "    'width': 1.5,\n",
    "    'alpha': 1,\n",
    "}"
   ]
  },
  {
   "cell_type": "code",
   "execution_count": null,
   "metadata": {},
   "outputs": [],
   "source": [
    "plt.figure(figsize=(12, 8))\n",
    "nx.draw(g, pos=node_positions, node_size=3, node_color='black', **options)\n",
    "plt.title('Graph Representation of London Underground Network', size=20)\n",
    "plt.show"
   ]
  },
  {
   "cell_type": "code",
   "execution_count": null,
   "metadata": {
    "colab": {
     "base_uri": "https://localhost:8080/"
    },
    "executionInfo": {
     "elapsed": 12,
     "status": "ok",
     "timestamp": 1653210631708,
     "user": {
      "displayName": "Shan Gao",
      "userId": "01140183652841318337"
     },
     "user_tz": -60
    },
    "id": "QBNWn6Tqs6Yb",
    "outputId": "a68593bb-a9c6-4b91-cbd5-d3c46d898ffc"
   },
   "outputs": [],
   "source": [
    "print(\"Number of connections in the network: \", len(connections))"
   ]
  },
  {
   "cell_type": "markdown",
   "metadata": {
    "id": "AkFjkyV0tJA0"
   },
   "source": [
    "#### Calculating distance\n",
    "\n",
    "Next we will use [Haversine formula](https://en.wikipedia.org/wiki/Haversine_formula) to calculate the point-to-point distance between the stations in the network by using the latitude and longitude coordinates of each station in the dataset.\n"
   ]
  },
  {
   "cell_type": "code",
   "execution_count": null,
   "metadata": {
    "executionInfo": {
     "elapsed": 10,
     "status": "ok",
     "timestamp": 1653210631709,
     "user": {
      "displayName": "Shan Gao",
      "userId": "01140183652841318337"
     },
     "user_tz": -60
    },
    "id": "BNZSkeBYu5Ll"
   },
   "outputs": [],
   "source": [
    "from math import cos, asin, sqrt, pi\n",
    "import statistics as st\n",
    "import scipy.stats as stats\n",
    "\n",
    "def distance(lat1, lon1, lat2, lon2):\n",
    "    p = pi/180\n",
    "    a = 0.5 - cos((lat2-lat1)*p)/2 + cos(lat1*p) * cos(lat2*p) * (1-cos((lon2-lon1)*p))/2\n",
    "    return 12742 * asin(sqrt(a))"
   ]
  },
  {
   "cell_type": "markdown",
   "metadata": {},
   "source": [
    "#### Choosing the line change penalty"
   ]
  },
  {
   "cell_type": "code",
   "execution_count": null,
   "metadata": {
    "executionInfo": {
     "elapsed": 9,
     "status": "ok",
     "timestamp": 1653210631709,
     "user": {
      "displayName": "Shan Gao",
      "userId": "01140183652841318337"
     },
     "user_tz": -60
    },
    "id": "aJcgp_PexY0x"
   },
   "outputs": [],
   "source": [
    "distances=[]\n",
    "for index, row in connections.iterrows():\n",
    "    distances.append(distance(row[6], row[5], row[13], row[12]))\n",
    "connections['distance'] = distances\n",
    "\n",
    "Distances = pd.DataFrame(distances) # Create a pandas DataFrame out of the numpy array\n",
    "Distances.plot.hist(alpha=0.5, bins=100, grid=True, legend=None)  # Pandas helper function to plot a hist. Uses matplotlib under the hood.\n",
    "plt.xlabel(\"distance (km)\")\n",
    "plt.title(\"Histogram of line lenght distribution\")\n",
    "\n",
    "param = stats.norm.fit(distances)   # calculate sigma and mu\n",
    "st.median(distances) # calculate median\n",
    "plt.text(2,16.5, r'$\\mu=1.17,\\ \\sigma=0.69$, med=0.99', color='r', fontsize = 'x-large')\n",
    "\n",
    "plt.show()"
   ]
  },
  {
   "cell_type": "markdown",
   "metadata": {},
   "source": [
    "We have calculated the distance between each station in the graph and concluded that, on average, each station was separated by 1.17km. Because the distance between central stations is smaller than the distance between peripheric stations, we observe a positive skewness in the distance distribution. Furthermore, it is unlikely that participants will change lines in the periphery of the network. For this reason, we think it is more accurate to take the median distance as the penalty value for changing lines. \n",
    "\n",
    "The appropriate penalty for a line change will hence be 1km."
   ]
  },
  {
   "cell_type": "markdown",
   "metadata": {},
   "source": [
    "### Data processing <a class=\"anchor\" id=\"third-bullet\"></a>"
   ]
  },
  {
   "cell_type": "markdown",
   "metadata": {
    "id": "zVAIdLoX2wPW"
   },
   "source": [
    "#### Graphing our network\n",
    "Now we can graph our network to have a better idea of the challenge in front of us."
   ]
  },
  {
   "cell_type": "code",
   "execution_count": null,
   "metadata": {
    "executionInfo": {
     "elapsed": 511,
     "status": "ok",
     "timestamp": 1653210815199,
     "user": {
      "displayName": "Shan Gao",
      "userId": "01140183652841318337"
     },
     "user_tz": -60
    },
    "id": "06nLRyMN2zIX"
   },
   "outputs": [],
   "source": [
    "import networkx as nx\n",
    "graph_distance = nx.Graph()\n",
    "for connection_id, connection in connections.iterrows():\n",
    "    graph_distance.add_edge(connection['station1_name'], connection['station2_name'], weight = connection['distance'])"
   ]
  },
  {
   "cell_type": "code",
   "execution_count": null,
   "metadata": {
    "colab": {
     "base_uri": "https://localhost:8080/"
    },
    "executionInfo": {
     "elapsed": 224,
     "status": "ok",
     "timestamp": 1653145251408,
     "user": {
      "displayName": "Shan Gao",
      "userId": "01140183652841318337"
     },
     "user_tz": -60
    },
    "id": "ghbvy_gl9DEF",
    "outputId": "caf0f783-c2cc-4ce4-a292-c44acabd40cb"
   },
   "outputs": [],
   "source": [
    "for i in ['Waterloo', 'Euston', 'Elephant & Castle']:\n",
    "    print(f\"\\n{i} station is connected to:\", *list(graph_distance.neighbors(i)), sep='\\n\\t', )"
   ]
  },
  {
   "cell_type": "markdown",
   "metadata": {},
   "source": [
    "#### Finding the shortest route\n",
    "\n",
    "We now construct a function to find the shortest route between two stations."
   ]
  },
  {
   "cell_type": "code",
   "execution_count": null,
   "metadata": {
    "id": "gf89TiaY_uXh"
   },
   "outputs": [],
   "source": [
    "def shortest_route(start, end):\n",
    "    journey_path = nx.shortest_path(graph_distance, start, end, weight='weight')\n",
    "    journey_distance = nx.shortest_path_length(graph_distance, start, end, weight='weight')\n",
    "    print(f'\\nShortest-Tube-Distance Journey from {start} to {end}:', *journey_path, sep='\\n\\t')\n",
    "    print('\\nJourney Distance:', journey_distance, 'kilometers')"
   ]
  },
  {
   "cell_type": "code",
   "execution_count": null,
   "metadata": {
    "colab": {
     "base_uri": "https://localhost:8080/"
    },
    "executionInfo": {
     "elapsed": 8,
     "status": "ok",
     "timestamp": 1653039826933,
     "user": {
      "displayName": "Shan Gao",
      "userId": "01140183652841318337"
     },
     "user_tz": -60
    },
    "id": "PZL3YXFmBAAk",
    "outputId": "4c7257e7-4d1f-4da9-d856-46871585cbc4"
   },
   "outputs": [],
   "source": [
    "shortest_route('Canary Wharf', 'Covent Garden')"
   ]
  },
  {
   "cell_type": "markdown",
   "metadata": {},
   "source": [
    "Although the function is successfull in finding the shortest path between two stations, it is not necesserally successfull in finding the fastest way between these two stations. For instance, the Jubilee line goes directly from Canary Wharf to Covent Garden, and is the fastest option with Google Maps estimating the journey time at 30 minutes. \n",
    "The shortest route however, includes 2 changes (DLR ==> Central ==> Piccadily) and takes 34 min on Google Maps. We hence find that taking the shortest route might, at times, lenghten our journey time. \n",
    "\n",
    "This is an important finding which results from our assumption that distance can be used as a proxy for time. To resolve this issue, we will assign a weight to line changes so as to account for the loss of time resulting from them.\n",
    "This penalty was calculated earlier and is equal to 2.34km or the average distance between two stations."
   ]
  },
  {
   "cell_type": "markdown",
   "metadata": {
    "id": "pSpnRo-u2Wea"
   },
   "source": [
    "### Random Walk \n",
    "\n",
    "Next, we will estimate the distance an agent would travel before completing the Tube challenge with a random walk (policy).\n",
    "The agent will randomly choose to either X or Y with equal probability and will only stop once it has travelled to every station in the network"
   ]
  },
  {
   "cell_type": "code",
   "execution_count": null,
   "metadata": {
    "id": "1-w-kFAO_7wN"
   },
   "outputs": [],
   "source": [
    "def random_walk(network, start):\n",
    "    network.index = range(len(network.index))\n",
    "    position = start\n",
    "    total_distance = 0\n",
    "    keys = pd.unique(network[['station1', 'station2']].values.ravel('K'))\n",
    "    complete = dict(zip(keys, [False] * len(network)))\n",
    "    step = 0\n",
    "    done = False\n",
    "    while not done:\n",
    "    edge = network[(network['station1'] == position) | (network['station2'] == position)].sample()\n",
    "    total_distance += edge['distance'].item()\n",
    "    if position == edge['station1'].item():\n",
    "      complete[edge['station1'].item()] = True\n",
    "      position = edge['station2'].item()\n",
    "    else:\n",
    "      complete[edge['station2'].item()] = True\n",
    "      position = edge['station1'].item()\n",
    "    done = all(value == True for value in complete.values())\n",
    "    step += 1\n",
    "    return step, total_distance\n"
   ]
  },
  {
   "cell_type": "code",
   "execution_count": null,
   "metadata": {
    "colab": {
     "base_uri": "https://localhost:8080/"
    },
    "executionInfo": {
     "elapsed": 50935,
     "status": "ok",
     "timestamp": 1653039883436,
     "user": {
      "displayName": "Shan Gao",
      "userId": "01140183652841318337"
     },
     "user_tz": -60
    },
    "id": "5xhWXPgeD7U7",
    "outputId": "2a3f0ada-02da-4107-9aab-475354949048"
   },
   "outputs": [],
   "source": [
    "random_walk(connections, 169)"
   ]
  },
  {
   "cell_type": "markdown",
   "metadata": {},
   "source": [
    "As we can see, it would take the agent 39707 steps and 44970 km to complete the Tube Challenge (starting from station 169) if it took decisions randomly. This result is important as it will be used as a measure of comparaison in our subsequent work."
   ]
  },
  {
   "cell_type": "markdown",
   "metadata": {
    "id": "m4LRGYnrfnK-"
   },
   "source": [
    "#### Random walk with numpy \n",
    "\n",
    "Implementing the random walk with numpy is much more effecient in terms of computation"
   ]
  },
  {
   "cell_type": "code",
   "execution_count": null,
   "metadata": {
    "id": "xisZ5jHXs5z1"
   },
   "outputs": [],
   "source": [
    "network = connections[['station1', 'station2', 'distance', 'line']].to_numpy()"
   ]
  },
  {
   "cell_type": "code",
   "execution_count": null,
   "metadata": {
    "colab": {
     "base_uri": "https://localhost:8080/"
    },
    "executionInfo": {
     "elapsed": 1093,
     "status": "ok",
     "timestamp": 1653132458271,
     "user": {
      "displayName": "Shan Gao",
      "userId": "01140183652841318337"
     },
     "user_tz": -60
    },
    "id": "DfrWgtCgbhPI",
    "outputId": "9738af58-9a44-453f-cb6b-fce0ca2d7b08"
   },
   "outputs": [],
   "source": [
    "#making a 'completed' dict\n",
    "keys = pd.unique(connections[['station1', 'station2']].values.ravel('K'))\n",
    "completed = dict(zip(keys, [False] * len(connections)))\n",
    "\n",
    "#initialize with a starting state\n",
    "state = 169\n",
    "total_distance = 0\n",
    "completed[state] = True\n",
    "step = 0\n",
    "done = False\n",
    "\n",
    "#loop until every stop is completed\n",
    "while not done:\n",
    "  actions = np.concatenate([network[(network[:,0] == state)], network[(network[:,1] == state)]])\n",
    "  action = actions[np.random.randint(len(actions))]\n",
    "  total_distance += action[2]\n",
    "  if state == action[0]:\n",
    "    state = action[1]\n",
    "  else:\n",
    "    state = action[0]\n",
    "  completed[state] = True\n",
    "  done = all(value == True for value in completed.values())\n",
    "  step += 1\n",
    "print(step, total_distance)"
   ]
  },
  {
   "cell_type": "markdown",
   "metadata": {},
   "source": [
    "As we can see, it would take the agent 19440 steps and 21819 km to complete the Tube Challenge (starting from station 169) if it took decisions randomly. This result is important as it will be used as a measure of comparaison in our subsequent work.\n",
    "\n",
    "would be interesting to repeat the process X times and get an average by the law of great numbers it would get us an estimate closer to the mean"
   ]
  },
  {
   "cell_type": "markdown",
   "metadata": {
    "id": "UtxowR9llzvL"
   },
   "source": [
    "## Q learning Zone 1 only"
   ]
  },
  {
   "cell_type": "code",
   "execution_count": null,
   "metadata": {
    "id": "QE97BVSZsstp"
   },
   "outputs": [],
   "source": [
    "network = connections_z1[['station1', 'station2', 'distance', 'line']].to_numpy()"
   ]
  },
  {
   "cell_type": "code",
   "execution_count": null,
   "metadata": {
    "id": "q3V8zeDEui6x"
   },
   "outputs": [],
   "source": [
    "def q_learning(qsa, next_qs, r, alpha=0.1, gamma=1.0):  \n",
    "    return qsa + alpha * (r + gamma * np.max(next_qs) - qsa)"
   ]
  },
  {
   "cell_type": "code",
   "execution_count": null,
   "metadata": {
    "colab": {
     "base_uri": "https://localhost:8080/",
     "height": 236
    },
    "executionInfo": {
     "elapsed": 24,
     "status": "error",
     "timestamp": 1653079495074,
     "user": {
      "displayName": "cedrac lechien",
      "userId": "07665512643212530775"
     },
     "user_tz": -60
    },
    "id": "G4xBwOpDoozI",
    "outputId": "0cef4ef5-be0a-42cb-f64e-2245ede956cb"
   },
   "outputs": [],
   "source": [
    "runs = 1\n",
    "episodes = 1000\n",
    "epsilon_min = 0.01\n",
    "epsilon_decay = 0.999\n",
    "total_distances = np.zeros(episodes)\n",
    "\n",
    "for r in range(runs):\n",
    "  #q values lookup table\n",
    "  q_qlearning = np.zeros([len(network), len(network)])\n",
    "  epsilon = 1\n",
    "\n",
    "  for i in range(episodes):\n",
    "    #initialize with a starting state\n",
    "    state = 0\n",
    "    total_distance = 0\n",
    "    #making a 'completed' dict\n",
    "    keys = pd.unique(connections_z1[['station1', 'station2']].values.ravel('K'))\n",
    "    completed = dict(zip(keys, [False] * len(connections_z1)))\n",
    "    completed[state] = True\n",
    "    step = 0\n",
    "    done = False\n",
    "    #epsilon decay\n",
    "    if epsilon > epsilon_min:\n",
    "      epsilon *= epsilon_decay\n",
    "\n",
    "    while not done:     \n",
    "      #the avaliable actions \n",
    "      actions = np.concatenate([network[(network[:,0] == state)][:,1],network[(network[:,1] == state)][:,0]]).astype(None).tolist()\n",
    "      distances = np.concatenate([network[(network[:,0] == state)][:,2], network[(network[:,1] == state)][:,2]])\n",
    "      actions_idx = [int(x) for x in actions] \n",
    "      state = int(state)\n",
    "      q = q_qlearning[state, actions_idx]\n",
    "\n",
    "      #choosing action base on epsilon greedy policy\n",
    "      if np.random.rand() > epsilon:\n",
    "        idx = np.argmax(q)\n",
    "      else:\n",
    "        idx = random.randint(0, len(actions)-1)\n",
    "      action = actions_idx[idx]\n",
    "      distance = distances[idx]\n",
    "\n",
    "      #update distance and 'completed' dict\n",
    "      total_distance += distance\n",
    "      completed[state] = True\n",
    "\n",
    "      #update q values ('action' = 'next_state')\n",
    "      action = int(action)\n",
    "      q_qlearning[state, action] = q_learning(q_qlearning[state, action], q_qlearning[action, :], -distance)\n",
    "\n",
    "      #update state\n",
    "      state = action\n",
    "      done = all(value == True for value in completed.values())\n",
    "      step += 1\n",
    "    total_distances[i] += total_distance"
   ]
  },
  {
   "cell_type": "code",
   "execution_count": null,
   "metadata": {
    "colab": {
     "base_uri": "https://localhost:8080/",
     "height": 283
    },
    "executionInfo": {
     "elapsed": 439,
     "status": "ok",
     "timestamp": 1653040532380,
     "user": {
      "displayName": "Shan Gao",
      "userId": "01140183652841318337"
     },
     "user_tz": -60
    },
    "id": "ssxwctksr7_l",
    "outputId": "c45fcebf-1192-4e5e-e624-5861ca2bebc1"
   },
   "outputs": [],
   "source": [
    "plt.plot(total_distances)"
   ]
  },
  {
   "cell_type": "markdown",
   "metadata": {
    "id": "LKm_VXRI_4eL"
   },
   "source": [
    "As this plot shows, as the number of episode (and value of epsilon) increases, the performance gets worse and worse than a random policy. We can't simply take the current station as state, the next station as action, and give the state-action a value. In this sequential decision making process, the desirablity of travelling from one station to another station is going to vary overtime. "
   ]
  },
  {
   "cell_type": "markdown",
   "metadata": {
    "id": "2_wA6knfcphI"
   },
   "source": [
    "# Can solve this by transforming it to a TSP problem"
   ]
  },
  {
   "cell_type": "markdown",
   "metadata": {
    "id": "8IbAAC6i6nMy"
   },
   "source": [
    "With a few more preprocessing steps, this problem can be reduced to the most basic TSP problem, in which the network is complete (each node is connected with one another), and each node can only be travelled once."
   ]
  },
  {
   "cell_type": "markdown",
   "metadata": {
    "id": "awOeLgSB8wxE"
   },
   "source": [
    "###Split stations to station*line(platforms) to address transit cost:"
   ]
  },
  {
   "cell_type": "code",
   "execution_count": null,
   "metadata": {
    "executionInfo": {
     "elapsed": 212,
     "status": "ok",
     "timestamp": 1653210592195,
     "user": {
      "displayName": "Shan Gao",
      "userId": "01140183652841318337"
     },
     "user_tz": -60
    },
    "id": "L4Ihof2LfsVi"
   },
   "outputs": [],
   "source": [
    "stations_ = stations\n",
    "stations_['line']=range(len(stations_.index))"
   ]
  },
  {
   "cell_type": "code",
   "execution_count": null,
   "metadata": {
    "executionInfo": {
     "elapsed": 4,
     "status": "ok",
     "timestamp": 1653210593007,
     "user": {
      "displayName": "Shan Gao",
      "userId": "01140183652841318337"
     },
     "user_tz": -60
    },
    "id": "R2Om-V64IYTk"
   },
   "outputs": [],
   "source": [
    "two_lines = stations[stations['total_lines'] > 1]\n",
    "three_lines = stations[stations['total_lines'] > 2]\n",
    "four_lines = stations[stations['total_lines'] > 3]\n",
    "five_lines = stations[stations['total_lines'] > 4]\n",
    "six_lines = stations[stations['total_lines'] > 5]\n",
    "stations_ = stations_.append([two_lines],ignore_index=True)\n",
    "stations_ = stations_.append([three_lines],ignore_index=True)\n",
    "stations_ = stations_.append([four_lines],ignore_index=True)\n",
    "stations_ = stations_.append([five_lines],ignore_index=True)\n",
    "stations_ = stations_.append([six_lines],ignore_index=True)"
   ]
  },
  {
   "cell_type": "code",
   "execution_count": null,
   "metadata": {
    "colab": {
     "base_uri": "https://localhost:8080/"
    },
    "executionInfo": {
     "elapsed": 506,
     "status": "ok",
     "timestamp": 1653210596935,
     "user": {
      "displayName": "Shan Gao",
      "userId": "01140183652841318337"
     },
     "user_tz": -60
    },
    "id": "l2UsWkLGxc6P",
    "outputId": "06f2f8c7-da86-411c-d634-70dfbc84ddb0"
   },
   "outputs": [],
   "source": [
    "ilist=[]\n",
    "for i in range(1,310):\n",
    "  try:\n",
    "    stations_.loc[stations_['id']==i, 'line'] = np.unique(np.concatenate((line_definitions[line_definitions['station1']==i]['line'].unique(), line_definitions[line_definitions['station2']==i]['line'].unique())))\n",
    "  except:\n",
    "    ilist.append(i)\n",
    "    pass\n",
    "ilist"
   ]
  },
  {
   "cell_type": "code",
   "execution_count": null,
   "metadata": {
    "colab": {
     "base_uri": "https://localhost:8080/"
    },
    "executionInfo": {
     "elapsed": 185,
     "status": "ok",
     "timestamp": 1653210597894,
     "user": {
      "displayName": "Shan Gao",
      "userId": "01140183652841318337"
     },
     "user_tz": -60
    },
    "id": "M6cei5-kyxj3",
    "outputId": "a78c2796-da77-4c4f-e945-a31fe96bbc20"
   },
   "outputs": [],
   "source": [
    "for i in ilist:\n",
    "  print(stations_.loc[stations_['id']==i, 'total_lines'])"
   ]
  },
  {
   "cell_type": "code",
   "execution_count": null,
   "metadata": {
    "colab": {
     "base_uri": "https://localhost:8080/"
    },
    "executionInfo": {
     "elapsed": 222,
     "status": "ok",
     "timestamp": 1653210599749,
     "user": {
      "displayName": "Shan Gao",
      "userId": "01140183652841318337"
     },
     "user_tz": -60
    },
    "id": "7o2ulqmoylNm",
    "outputId": "cf454a16-42e8-4582-8ff0-157f69b6f22e"
   },
   "outputs": [],
   "source": [
    "for i in ilist:\n",
    "  print(np.unique(np.concatenate((line_definitions[line_definitions['station1']==i]['line'].unique(), line_definitions[line_definitions['station2']==i]['line'].unique()))))"
   ]
  },
  {
   "cell_type": "code",
   "execution_count": null,
   "metadata": {
    "executionInfo": {
     "elapsed": 2,
     "status": "ok",
     "timestamp": 1653210600577,
     "user": {
      "displayName": "Shan Gao",
      "userId": "01140183652841318337"
     },
     "user_tz": -60
    },
    "id": "8q_oR6iZ0FAN"
   },
   "outputs": [],
   "source": [
    "stations_ = stations\n",
    "stations_['line']=range(len(stations_.index))"
   ]
  },
  {
   "cell_type": "code",
   "execution_count": null,
   "metadata": {
    "executionInfo": {
     "elapsed": 299,
     "status": "ok",
     "timestamp": 1653210602024,
     "user": {
      "displayName": "Shan Gao",
      "userId": "01140183652841318337"
     },
     "user_tz": -60
    },
    "id": "V5aGjignow6v"
   },
   "outputs": [],
   "source": [
    "stations.loc[stations['id']==95, 'total_lines'] = 2 \n",
    "stations.loc[stations['id']==150, 'total_lines'] = 2 \n",
    "stations.loc[stations['id']==227, 'total_lines'] = 2 \n",
    "stations.loc[stations['id']==254, 'total_lines'] = 1 "
   ]
  },
  {
   "cell_type": "code",
   "execution_count": null,
   "metadata": {
    "executionInfo": {
     "elapsed": 4,
     "status": "ok",
     "timestamp": 1653210602716,
     "user": {
      "displayName": "Shan Gao",
      "userId": "01140183652841318337"
     },
     "user_tz": -60
    },
    "id": "J9oSPa1kyYFn"
   },
   "outputs": [],
   "source": [
    "two_lines = stations[stations['total_lines'] > 1]\n",
    "three_lines = stations[stations['total_lines'] > 2]\n",
    "four_lines = stations[stations['total_lines'] > 3]\n",
    "five_lines = stations[stations['total_lines'] > 4]\n",
    "six_lines = stations[stations['total_lines'] > 5]\n",
    "stations_ = stations_.append([two_lines],ignore_index=True)\n",
    "stations_ = stations_.append([three_lines],ignore_index=True)\n",
    "stations_ = stations_.append([four_lines],ignore_index=True)\n",
    "stations_ = stations_.append([five_lines],ignore_index=True)\n",
    "stations_ = stations_.append([six_lines],ignore_index=True)"
   ]
  },
  {
   "cell_type": "code",
   "execution_count": null,
   "metadata": {
    "colab": {
     "base_uri": "https://localhost:8080/"
    },
    "executionInfo": {
     "elapsed": 523,
     "status": "ok",
     "timestamp": 1653210605069,
     "user": {
      "displayName": "Shan Gao",
      "userId": "01140183652841318337"
     },
     "user_tz": -60
    },
    "id": "KldefZrLuoo9",
    "outputId": "098e20da-e7d8-4840-9370-fad802fccd60"
   },
   "outputs": [],
   "source": [
    "ilist=[]\n",
    "for i in range(1,310):\n",
    "  try:\n",
    "    stations_.loc[stations_['id']==i, 'line'] = np.unique(np.concatenate((line_definitions[line_definitions['station1']==i]['line'].unique(), line_definitions[line_definitions['station2']==i]['line'].unique())))\n",
    "  except:\n",
    "    ilist.append(i)\n",
    "ilist"
   ]
  },
  {
   "cell_type": "markdown",
   "metadata": {
    "id": "XAu_altA2M86"
   },
   "source": [
    "## dropping DLR"
   ]
  },
  {
   "cell_type": "code",
   "execution_count": null,
   "metadata": {
    "executionInfo": {
     "elapsed": 187,
     "status": "ok",
     "timestamp": 1653210608141,
     "user": {
      "displayName": "Shan Gao",
      "userId": "01140183652841318337"
     },
     "user_tz": -60
    },
    "id": "z3WX1qEL2rJd"
   },
   "outputs": [],
   "source": [
    "tubes = stations_[stations_['line']<13]"
   ]
  },
  {
   "cell_type": "code",
   "execution_count": null,
   "metadata": {
    "colab": {
     "base_uri": "https://localhost:8080/"
    },
    "executionInfo": {
     "elapsed": 11,
     "status": "ok",
     "timestamp": 1653210608342,
     "user": {
      "displayName": "Shan Gao",
      "userId": "01140183652841318337"
     },
     "user_tz": -60
    },
    "id": "PC1MXf_J3KSB",
    "outputId": "ee82f419-9346-4c73-a3ba-fa0997d18cbb"
   },
   "outputs": [],
   "source": [
    "tubes['idx']= range(len(tubes.index))"
   ]
  },
  {
   "cell_type": "code",
   "execution_count": null,
   "metadata": {
    "colab": {
     "base_uri": "https://localhost:8080/"
    },
    "executionInfo": {
     "elapsed": 8,
     "status": "ok",
     "timestamp": 1653210608343,
     "user": {
      "displayName": "Shan Gao",
      "userId": "01140183652841318337"
     },
     "user_tz": -60
    },
    "id": "EgYkM6CZ5q6S",
    "outputId": "f7030312-6fb8-4a15-b686-90910bac6c35"
   },
   "outputs": [],
   "source": [
    "tubes['name'] = tubes['name'] + str(tubes['line'])"
   ]
  },
  {
   "cell_type": "markdown",
   "metadata": {
    "id": "0tXnfrQT9Cao"
   },
   "source": [
    "## generating station*line(platform) connections"
   ]
  },
  {
   "cell_type": "markdown",
   "metadata": {
    "id": "KThe0GNNWf5M"
   },
   "source": [
    "###making a connections dataframe with station*lines(platform) index"
   ]
  },
  {
   "cell_type": "code",
   "execution_count": null,
   "metadata": {
    "executionInfo": {
     "elapsed": 203,
     "status": "ok",
     "timestamp": 1653210610151,
     "user": {
      "displayName": "Shan Gao",
      "userId": "01140183652841318337"
     },
     "user_tz": -60
    },
    "id": "bLttZXjj94ig"
   },
   "outputs": [],
   "source": [
    "line_definitions_ = pd.DataFrame(columns=['station1',\t'station2',\t'line']).iloc[0:0]"
   ]
  },
  {
   "cell_type": "code",
   "execution_count": null,
   "metadata": {
    "id": "f8WMBqkV9Ym9"
   },
   "outputs": [],
   "source": [
    "for index, row in line_definitions.iterrows():\n",
    "  line_definitions_ = line_definitions_.append({'station1': tubes.loc[tubes['id']==row[0]][tubes['line']==row[2]]['idx'].item(),\n",
    "                                                'station2': tubes.loc[tubes['id']==row[1]][tubes['line']==row[2]]['idx'].item(),\n",
    "                                                'line': row[2]}, ignore_index=True)\n",
    "line_definitions_ "
   ]
  },
  {
   "cell_type": "code",
   "execution_count": null,
   "metadata": {
    "executionInfo": {
     "elapsed": 218,
     "status": "ok",
     "timestamp": 1653210655143,
     "user": {
      "displayName": "Shan Gao",
      "userId": "01140183652841318337"
     },
     "user_tz": -60
    },
    "id": "OfOPAq_I8ebw"
   },
   "outputs": [],
   "source": [
    "connections_ = pd.DataFrame(columns=['line',\t'line_name',\t'line_colour', 'station1', 'station1_name', 'station1_long','station1_lat', 'station1_zone', 'station1_total_lines',\t'station1_rail', 'station2', 'station2_name', 'station2_long','station2_lat', 'station2_zone', 'station2_total_lines',\t'station2_rail'])\n",
    "connections_ = connections.iloc[0:0]"
   ]
  },
  {
   "cell_type": "code",
   "execution_count": null,
   "metadata": {
    "executionInfo": {
     "elapsed": 9836,
     "status": "ok",
     "timestamp": 1653210668114,
     "user": {
      "displayName": "Shan Gao",
      "userId": "01140183652841318337"
     },
     "user_tz": -60
    },
    "id": "jOo0h8bP8YFX"
   },
   "outputs": [],
   "source": [
    "for index, row in line_definitions_.iterrows():\n",
    "  connections_ = connections_.append({'line': row[2],\n",
    "                                      'line_name': routes[routes['line']==row[2]]['name'].item(),\n",
    "                                      'line_colour': routes[routes['line']==row[2]]['colour'].item(),\n",
    "                                      'station1': row[0],\n",
    "                                      'station1_name': tubes[tubes['idx']==row[0]]['name'].item(),\n",
    "                                      'station1_long': tubes[tubes['idx']==row[0]]['longitude'].item(),\n",
    "                                      'station1_lat': tubes[tubes['idx']==row[0]]['latitude'].item(),\n",
    "                                      'station1_zone': tubes[tubes['idx']==row[0]]['zone'].item(),\n",
    "                                      'station1_total_lines': tubes[tubes['idx']==row[0]]['total_lines'].item(),\n",
    "                                      'station1_rail': tubes[tubes['idx']==row[0]]['rail'].item(),\n",
    "                                      'station2': row[1],\n",
    "                                      'station2_name': tubes[tubes['idx']==row[1]]['name'].item(),\n",
    "                                      'station2_long': tubes[tubes['idx']==row[1]]['longitude'].item(),\n",
    "                                      'station2_lat': tubes[tubes['idx']==row[1]]['latitude'].item(),\n",
    "                                      'station2_zone': tubes[tubes['idx']==row[1]]['zone'].item(),\n",
    "                                      'station2_total_lines': tubes[tubes['idx']==row[1]]['total_lines'].item(),\n",
    "                                      'station2_rail': tubes[tubes['idx']==row[1]]['rail'].item(),\n",
    "                                      }, ignore_index=True)"
   ]
  },
  {
   "cell_type": "code",
   "execution_count": null,
   "metadata": {
    "executionInfo": {
     "elapsed": 202,
     "status": "ok",
     "timestamp": 1653210671473,
     "user": {
      "displayName": "Shan Gao",
      "userId": "01140183652841318337"
     },
     "user_tz": -60
    },
    "id": "38-bFTN-FAJS"
   },
   "outputs": [],
   "source": [
    "distances=[]\n",
    "for index, row in connections_.iterrows():\n",
    "  distances.append(distance(row[6], row[5], row[13], row[12]))\n",
    "connections_['distance'] = distances"
   ]
  },
  {
   "cell_type": "code",
   "execution_count": null,
   "metadata": {
    "executionInfo": {
     "elapsed": 3,
     "status": "ok",
     "timestamp": 1653210672117,
     "user": {
      "displayName": "Shan Gao",
      "userId": "01140183652841318337"
     },
     "user_tz": -60
    },
    "id": "HvDJlb0BKMzn"
   },
   "outputs": [],
   "source": [
    "connections__ = connections_[['station1', 'station1_name','station2', 'station2_name', 'distance']]"
   ]
  },
  {
   "cell_type": "markdown",
   "metadata": {
    "id": "7YJSEBMwDYg6"
   },
   "source": [
    "Here I am addressing the cost of changing lines. \n",
    "\n",
    "Should also do a version without considering this."
   ]
  },
  {
   "cell_type": "code",
   "execution_count": null,
   "metadata": {
    "executionInfo": {
     "elapsed": 2297,
     "status": "ok",
     "timestamp": 1653210683772,
     "user": {
      "displayName": "Shan Gao",
      "userId": "01140183652841318337"
     },
     "user_tz": -60
    },
    "id": "XpgxmWmwKRpA"
   },
   "outputs": [],
   "source": [
    "for i in range(1, 385):\n",
    "  test_list = tubes[tubes['id']==i]['idx'].tolist()\n",
    "  for j in [(a, b) for idx, a in enumerate(test_list) for b in test_list[idx + 1:]]:\n",
    "    connections__ = connections__.append({'station1': j[0],\n",
    "                                          'station1_name': tubes[tubes['idx']==j[0]]['name'].item(),\n",
    "                                          'station2': j[1],\n",
    "                                          'station2_name': tubes[tubes['idx']==j[1]]['name'].item(),\n",
    "                                          'distance': 1\n",
    "                                          }, ignore_index=True)"
   ]
  },
  {
   "cell_type": "code",
   "execution_count": null,
   "metadata": {
    "executionInfo": {
     "elapsed": 6,
     "status": "ok",
     "timestamp": 1653210683774,
     "user": {
      "displayName": "Shan Gao",
      "userId": "01140183652841318337"
     },
     "user_tz": -60
    },
    "id": "5LDK26WdCQU_"
   },
   "outputs": [],
   "source": [
    "connections__['station1_name'] = connections_['station1_name'] + ' ' + connections_['line_name'] \n",
    "connections__['station2_name'] = connections_['station2_name'] + ' ' + connections_['line_name'] \n"
   ]
  },
  {
   "cell_type": "markdown",
   "metadata": {
    "id": "4jtHx_yqW2z4"
   },
   "source": [
    "## getting stations without DLR"
   ]
  },
  {
   "cell_type": "code",
   "execution_count": null,
   "metadata": {
    "executionInfo": {
     "elapsed": 218,
     "status": "ok",
     "timestamp": 1653210852940,
     "user": {
      "displayName": "Shan Gao",
      "userId": "01140183652841318337"
     },
     "user_tz": -60
    },
    "id": "J4JQUcMuYlaS"
   },
   "outputs": [],
   "source": [
    "tubes_unique=tubes.iloc[0:275]"
   ]
  },
  {
   "cell_type": "markdown",
   "metadata": {
    "id": "UQ1S-H5h25I-"
   },
   "source": [
    "##distance matrix"
   ]
  },
  {
   "cell_type": "markdown",
   "metadata": {
    "id": "PFvwpGK0FHz5"
   },
   "source": []
  },
  {
   "cell_type": "code",
   "execution_count": null,
   "metadata": {
    "executionInfo": {
     "elapsed": 2,
     "status": "ok",
     "timestamp": 1653210793600,
     "user": {
      "displayName": "Shan Gao",
      "userId": "01140183652841318337"
     },
     "user_tz": -60
    },
    "id": "re9AX7PmWEor"
   },
   "outputs": [],
   "source": [
    "distance_x = np.zeros((275, 275))"
   ]
  },
  {
   "cell_type": "markdown",
   "metadata": {
    "id": "AjR402Ae5bfz"
   },
   "source": [
    "### shortest path algorithm to fill distance matrix"
   ]
  },
  {
   "cell_type": "code",
   "execution_count": null,
   "metadata": {
    "executionInfo": {
     "elapsed": 192,
     "status": "ok",
     "timestamp": 1653210821003,
     "user": {
      "displayName": "Shan Gao",
      "userId": "01140183652841318337"
     },
     "user_tz": -60
    },
    "id": "ENoSkRAHGnQ9"
   },
   "outputs": [],
   "source": [
    "graph_distance = nx.Graph()\n",
    "for connection_id, connection in connections__.iterrows():\n",
    "    graph_distance.add_edge(connection['station1'], connection['station2'], weight = connection['distance'])"
   ]
  },
  {
   "cell_type": "code",
   "execution_count": null,
   "metadata": {
    "executionInfo": {
     "elapsed": 10,
     "status": "ok",
     "timestamp": 1653210802090,
     "user": {
      "displayName": "Shan Gao",
      "userId": "01140183652841318337"
     },
     "user_tz": -60
    },
    "id": "h-rJeG9vG44Z"
   },
   "outputs": [],
   "source": [
    "def distance(start, end):\n",
    "    journey_distance = nx.shortest_path_length(graph_distance, start, end, weight='weight')\n",
    "    return journey_distance"
   ]
  },
  {
   "cell_type": "code",
   "execution_count": null,
   "metadata": {
    "executionInfo": {
     "elapsed": 198,
     "status": "ok",
     "timestamp": 1653210856218,
     "user": {
      "displayName": "Shan Gao",
      "userId": "01140183652841318337"
     },
     "user_tz": -60
    },
    "id": "NALlMMAmbrUz"
   },
   "outputs": [],
   "source": [
    "id275 = tubes_unique['id'].to_list()\n",
    "index = range(0, 275)\n",
    "id_dict = dict(zip(id275, index))"
   ]
  },
  {
   "cell_type": "code",
   "execution_count": null,
   "metadata": {
    "executionInfo": {
     "elapsed": 246041,
     "status": "ok",
     "timestamp": 1653211104738,
     "user": {
      "displayName": "Shan Gao",
      "userId": "01140183652841318337"
     },
     "user_tz": -60
    },
    "id": "Mc-Y5X5AS3zx"
   },
   "outputs": [],
   "source": [
    "for i in range(0, 384):\n",
    "  for j in range(0, 384):\n",
    "    distance_x[id_dict[tubes[tubes['idx']==i]['id'].item()], id_dict[tubes[tubes['idx']==j]['id'].item()]] = distance(i, j)"
   ]
  },
  {
   "cell_type": "code",
   "execution_count": null,
   "metadata": {
    "colab": {
     "base_uri": "https://localhost:8080/"
    },
    "executionInfo": {
     "elapsed": 210,
     "status": "ok",
     "timestamp": 1653211114499,
     "user": {
      "displayName": "Shan Gao",
      "userId": "01140183652841318337"
     },
     "user_tz": -60
    },
    "id": "oSsla7N4fHAd",
    "outputId": "060e9dd0-6460-423f-acd2-f8c09e8c2e35"
   },
   "outputs": [],
   "source": [
    "distance_x"
   ]
  },
  {
   "cell_type": "markdown",
   "metadata": {
    "id": "NcDnBu_YURHZ"
   },
   "source": [
    "##TSP implementation"
   ]
  },
  {
   "cell_type": "code",
   "execution_count": null,
   "metadata": {
    "executionInfo": {
     "elapsed": 189,
     "status": "ok",
     "timestamp": 1653211124075,
     "user": {
      "displayName": "Shan Gao",
      "userId": "01140183652841318337"
     },
     "user_tz": -60
    },
    "id": "JWjpWad5gBW2"
   },
   "outputs": [],
   "source": [
    "def q_learning(qsa, next_qs, r, alpha=0.1, gamma=1.0):  \n",
    "    return qsa + alpha * (r + gamma * np.max(next_qs) - qsa)"
   ]
  },
  {
   "cell_type": "markdown",
   "metadata": {
    "id": "Lm1UX-VQi7UK"
   },
   "source": [
    "###baseline random policy"
   ]
  },
  {
   "cell_type": "code",
   "execution_count": null,
   "metadata": {
    "executionInfo": {
     "elapsed": 86605,
     "status": "ok",
     "timestamp": 1653216435119,
     "user": {
      "displayName": "Shan Gao",
      "userId": "01140183652841318337"
     },
     "user_tz": -60
    },
    "id": "_JaZIkXiTPf_"
   },
   "outputs": [],
   "source": [
    "episodes = 1000\n",
    "total_distances = []\n",
    "for i in range(episodes):\n",
    "  #initialize with a starting state\n",
    "  s = 0\n",
    "  total_distance = 0\n",
    "  #making a 'completed' dict\n",
    "  keys = range(0, 275)\n",
    "  completed = dict(zip(keys, [False] * 275))\n",
    "  states_memory = []\n",
    "  completed[s] = True\n",
    "  step = 0\n",
    "  done = False\n",
    "  while not done:     \n",
    "    #choosing action\n",
    "    a = np.random.choice([x for x in range(275) if x not in states_memory])\n",
    "    distance = distance_x[s, a]\n",
    "    #update distance and 'completed' dict\n",
    "    total_distance += distance\n",
    "    states_memory.append(s)\n",
    "    completed[s] = True\n",
    "    #update state\n",
    "    s = a\n",
    "    done = all(value == True for value in completed.values())\n",
    "    step += 1\n",
    "  total_distances.append(total_distance)\n",
    "np.save('values/random/distances_r2.npy', total_distances) "
   ]
  },
  {
   "cell_type": "markdown",
   "metadata": {
    "id": "CMiwQJWiD0Vx"
   },
   "source": [
    "### Q learning result"
   ]
  },
  {
   "cell_type": "code",
   "execution_count": null,
   "metadata": {
    "id": "klP0X7FUgBW2"
   },
   "outputs": [],
   "source": [
    "runs = 10\n",
    "episodes = 1000\n",
    "epsilon_min = 0.01\n",
    "epsilon_decay = 0.999\n",
    "total_distances = []\n",
    "\n",
    "for r in range(runs):\n",
    "  #q values lookup table\n",
    "  Q = np.zeros((275, 275))\n",
    "  epsilon = 1\n",
    "\n",
    "  for i in range(episodes):\n",
    "    #initialize with a starting state\n",
    "    s = 0\n",
    "    total_distance = 0\n",
    "    #making a 'completed' dict\n",
    "    keys = range(0, 275)\n",
    "    completed = dict(zip(keys, [False] * 275))\n",
    "    states_memory = []\n",
    "    completed[s] = True\n",
    "    step = 0\n",
    "    done = False\n",
    "    #epsilon decay\n",
    "    if epsilon > epsilon_min:\n",
    "      epsilon *= epsilon_decay\n",
    "\n",
    "    while not done:     \n",
    "      #the q \n",
    "      q = np.copy(Q[s,:])\n",
    "      q[states_memory] = -np.inf\n",
    "\n",
    "      #choosing action base on epsilon greedy policy\n",
    "      if np.random.rand() > epsilon:\n",
    "        a = np.argmax(q)\n",
    "      else:\n",
    "        a = np.random.choice([x for x in range(275) if x not in states_memory])\n",
    "\n",
    "      distance = distance_x[s, a]\n",
    "\n",
    "      #update distance and 'completed' dict\n",
    "      total_distance += distance\n",
    "      states_memory.append(s)\n",
    "      completed[s] = True\n",
    "\n",
    "      #update q values ('action' = 'next_state')\n",
    "\n",
    "      Q[s, a] = q_learning(Q[s, a], Q[a, :], -distance)\n",
    "\n",
    "      #update state\n",
    "      s = a\n",
    "      done = all(value == True for value in completed.values())\n",
    "      step += 1\n",
    "    total_distances.append(total_distance)\n",
    "    np.save('values/q/distances_r{}.npy'.format(r), total_distances) \n",
    "    np.save('values/q/Q_r{}.npy'.format(r), Q) "
   ]
  },
  {
   "cell_type": "code",
   "execution_count": null,
   "metadata": {
    "executionInfo": {
     "elapsed": 223,
     "status": "ok",
     "timestamp": 1653211684067,
     "user": {
      "displayName": "Shan Gao",
      "userId": "01140183652841318337"
     },
     "user_tz": -60
    },
    "id": "4TPOqVlWF3BI"
   },
   "outputs": [],
   "source": [
    "num_arr=[[1,2],[3,4]]\n",
    "np.save('values/data.npy', num_arr) # save\n",
    "new_num_arr = np.load('values/data.npy') # load"
   ]
  },
  {
   "cell_type": "code",
   "execution_count": null,
   "metadata": {
    "id": "Lk6uhj06gBW3"
   },
   "outputs": [],
   "source": [
    "total_distances=total_distances[total_distances!=0]"
   ]
  },
  {
   "cell_type": "code",
   "execution_count": null,
   "metadata": {
    "id": "8XfsukjwGUyn"
   },
   "outputs": [],
   "source": [
    "total_distances_r1 = total_distances"
   ]
  },
  {
   "cell_type": "markdown",
   "metadata": {
    "id": "i6BDREdjv0u9"
   },
   "source": [
    "The Q learning algorithm shows decent performance after 1000 episodes of training!"
   ]
  },
  {
   "cell_type": "code",
   "execution_count": null,
   "metadata": {
    "colab": {
     "base_uri": "https://localhost:8080/",
     "height": 283
    },
    "executionInfo": {
     "elapsed": 691,
     "status": "ok",
     "timestamp": 1653162960140,
     "user": {
      "displayName": "Shan Gao",
      "userId": "01140183652841318337"
     },
     "user_tz": -60
    },
    "id": "MV9IQ_UCo-Ep",
    "outputId": "16114c1d-eacd-448e-e853-7cb66e065689"
   },
   "outputs": [],
   "source": [
    "plt.plot(total_distances_r1)"
   ]
  },
  {
   "cell_type": "code",
   "execution_count": null,
   "metadata": {
    "colab": {
     "base_uri": "https://localhost:8080/",
     "height": 283
    },
    "executionInfo": {
     "elapsed": 666,
     "status": "ok",
     "timestamp": 1653171698219,
     "user": {
      "displayName": "Shan Gao",
      "userId": "01140183652841318337"
     },
     "user_tz": -60
    },
    "id": "pEL2fPBQMIAY",
    "outputId": "44ba0e9f-5a13-4c84-d23b-f8cfc5cf5ea0"
   },
   "outputs": [],
   "source": [
    "plt.plot(total_distances_r2)"
   ]
  },
  {
   "cell_type": "markdown",
   "metadata": {
    "id": "lC77bS8ItqCJ"
   },
   "source": [
    "## solution"
   ]
  },
  {
   "cell_type": "code",
   "execution_count": null,
   "metadata": {
    "executionInfo": {
     "elapsed": 291,
     "status": "ok",
     "timestamp": 1653173241701,
     "user": {
      "displayName": "Shan Gao",
      "userId": "01140183652841318337"
     },
     "user_tz": -60
    },
    "id": "inBGjU9StyI5"
   },
   "outputs": [],
   "source": [
    "    #initialize with a starting state\n",
    "    s = 0\n",
    "    total_distance = 0\n",
    "    #making a 'completed' dict\n",
    "    keys = range(0, 275)\n",
    "    completed = dict(zip(keys, [False] * 275))\n",
    "    states_memory = []\n",
    "    completed[s] = True\n",
    "    done = False\n",
    "\n",
    "    while not done:     \n",
    "      #the q \n",
    "      q = np.copy(Q[s,:])\n",
    "      q[states_memory] = -np.inf\n",
    "      a = np.argmax(q)\n",
    "      distance = distance_x[s, a]\n",
    "      \n",
    "      #update distance and 'completed' dict\n",
    "      total_distance += distance\n",
    "      states_memory.append(s)\n",
    "      completed[s] = True\n",
    "      #update state\n",
    "      s = a\n",
    "      done = all(value == True for value in completed.values())\n"
   ]
  },
  {
   "cell_type": "code",
   "execution_count": null,
   "metadata": {
    "colab": {
     "base_uri": "https://localhost:8080/"
    },
    "executionInfo": {
     "elapsed": 8,
     "status": "ok",
     "timestamp": 1653173243539,
     "user": {
      "displayName": "Shan Gao",
      "userId": "01140183652841318337"
     },
     "user_tz": -60
    },
    "id": "TDy-yPwxvE1f",
    "outputId": "28d0e7cf-df3e-4b0c-8dfa-193f2001d0ac"
   },
   "outputs": [],
   "source": [
    "total_distance"
   ]
  },
  {
   "cell_type": "markdown",
   "metadata": {
    "id": "iaXGiNqHAeKO"
   },
   "source": [
    "total_distance calculated by the algorithm is much shorter than random walk, which is about 5500km"
   ]
  },
  {
   "cell_type": "code",
   "execution_count": null,
   "metadata": {
    "executionInfo": {
     "elapsed": 248,
     "status": "ok",
     "timestamp": 1653173247474,
     "user": {
      "displayName": "Shan Gao",
      "userId": "01140183652841318337"
     },
     "user_tz": -60
    },
    "id": "i3y9ni0RuKsZ"
   },
   "outputs": [],
   "source": [
    "journey = states_memory"
   ]
  },
  {
   "cell_type": "code",
   "execution_count": null,
   "metadata": {
    "executionInfo": {
     "elapsed": 254,
     "status": "ok",
     "timestamp": 1653173248901,
     "user": {
      "displayName": "Shan Gao",
      "userId": "01140183652841318337"
     },
     "user_tz": -60
    },
    "id": "0qKE3-jmwFoU"
   },
   "outputs": [],
   "source": [
    "journey_ = []\n",
    "for stop in journey:\n",
    "  if stop not in journey_:\n",
    "        journey_.append(stop)"
   ]
  },
  {
   "cell_type": "code",
   "execution_count": null,
   "metadata": {
    "executionInfo": {
     "elapsed": 282,
     "status": "ok",
     "timestamp": 1653173251361,
     "user": {
      "displayName": "Shan Gao",
      "userId": "01140183652841318337"
     },
     "user_tz": -60
    },
    "id": "8-NnhbwjxdEi"
   },
   "outputs": [],
   "source": [
    "idx_dict = dict(zip(index, id275))"
   ]
  },
  {
   "cell_type": "code",
   "execution_count": null,
   "metadata": {
    "executionInfo": {
     "elapsed": 195,
     "status": "ok",
     "timestamp": 1653173526128,
     "user": {
      "displayName": "Shan Gao",
      "userId": "01140183652841318337"
     },
     "user_tz": -60
    },
    "id": "W6X4sp-QxdND"
   },
   "outputs": [],
   "source": [
    "journey = []\n",
    "for stop in journey_:\n",
    "  journey.append(idx_dict[stop])"
   ]
  },
  {
   "cell_type": "code",
   "execution_count": null,
   "metadata": {
    "executionInfo": {
     "elapsed": 198,
     "status": "ok",
     "timestamp": 1653173528415,
     "user": {
      "displayName": "Shan Gao",
      "userId": "01140183652841318337"
     },
     "user_tz": -60
    },
    "id": "54kth2nKzel0"
   },
   "outputs": [],
   "source": [
    "import networkx as nx\n",
    "graph_distance = nx.Graph()\n",
    "for connection_id, connection in connections.iterrows():\n",
    "    graph_distance.add_edge(connection['station1'], connection['station2'], weight = connection['distance'])"
   ]
  },
  {
   "cell_type": "code",
   "execution_count": null,
   "metadata": {
    "executionInfo": {
     "elapsed": 4,
     "status": "ok",
     "timestamp": 1653173529306,
     "user": {
      "displayName": "Shan Gao",
      "userId": "01140183652841318337"
     },
     "user_tz": -60
    },
    "id": "9qL_a3zZx8V7"
   },
   "outputs": [],
   "source": [
    "def shortest_route(journey):\n",
    "  route = []\n",
    "  j = 0\n",
    "  for i in journey:\n",
    "    j+=1\n",
    "    if j < len(journey)-1:\n",
    "      route.append(nx.shortest_path(graph_distance, i, journey[j], weight='weight')[1:])\n",
    "  return route"
   ]
  },
  {
   "cell_type": "code",
   "execution_count": null,
   "metadata": {
    "executionInfo": {
     "elapsed": 3,
     "status": "ok",
     "timestamp": 1653173530211,
     "user": {
      "displayName": "Shan Gao",
      "userId": "01140183652841318337"
     },
     "user_tz": -60
    },
    "id": "dnzru0Bfzh-J"
   },
   "outputs": [],
   "source": [
    "route = shortest_route(journey)"
   ]
  },
  {
   "cell_type": "code",
   "execution_count": null,
   "metadata": {
    "executionInfo": {
     "elapsed": 3,
     "status": "ok",
     "timestamp": 1653173535183,
     "user": {
      "displayName": "Shan Gao",
      "userId": "01140183652841318337"
     },
     "user_tz": -60
    },
    "id": "fnnxA9rn4VNA"
   },
   "outputs": [],
   "source": [
    "route = [item for items in route for item in items]"
   ]
  },
  {
   "cell_type": "code",
   "execution_count": null,
   "metadata": {
    "executionInfo": {
     "elapsed": 350,
     "status": "ok",
     "timestamp": 1653173258923,
     "user": {
      "displayName": "Shan Gao",
      "userId": "01140183652841318337"
     },
     "user_tz": -60
    },
    "id": "z3FkCrai2z5w"
   },
   "outputs": [],
   "source": [
    "name = tube_stations['name'].to_list()\n",
    "name_dict = dict(zip(id275, name))"
   ]
  },
  {
   "cell_type": "code",
   "execution_count": null,
   "metadata": {
    "id": "mgQG9H9a3_0v"
   },
   "outputs": [],
   "source": [
    "route_ = []\n",
    "for stop in route:\n",
    "  route_.append(name_dict[stop])"
   ]
  },
  {
   "cell_type": "markdown",
   "metadata": {
    "id": "4cS8ivEDBc6R"
   },
   "source": [
    "698 stops to travel to all the stations. This is sensible result considering there are 275 stops."
   ]
  },
  {
   "cell_type": "markdown",
   "metadata": {
    "id": "R78BVtTE9Aa6"
   },
   "source": [
    "## Visualization of solution"
   ]
  },
  {
   "cell_type": "markdown",
   "metadata": {
    "id": "wPLsad_vKDkS"
   },
   "source": [
    "###map?"
   ]
  },
  {
   "cell_type": "code",
   "execution_count": null,
   "metadata": {
    "id": "a6Xm7odi7xXz"
   },
   "outputs": [],
   "source": [
    "import folium\n",
    "base_map = folium.folium.Map([51.5225, -0.1631], zoom_start=10, tiles='cartodbpositron') "
   ]
  },
  {
   "cell_type": "code",
   "execution_count": null,
   "metadata": {
    "id": "URs4HMtj9Wsl"
   },
   "outputs": [],
   "source": [
    "tsp_station_coords = []\n",
    "for i in route:\n",
    "    station_coords = [stations[stations['id']==i]['latitude'].item(), stations[stations['id']==i]['longitude'].item()]\n",
    "    tsp_station_coords.append(station_coords)"
   ]
  },
  {
   "cell_type": "code",
   "execution_count": null,
   "metadata": {
    "colab": {
     "base_uri": "https://localhost:8080/"
    },
    "executionInfo": {
     "elapsed": 217,
     "status": "ok",
     "timestamp": 1653159632114,
     "user": {
      "displayName": "Shan Gao",
      "userId": "01140183652841318337"
     },
     "user_tz": -60
    },
    "id": "VJqxBXXL-NCJ",
    "outputId": "0c0ccbaf-dbb1-4e49-9f11-64b318598926"
   },
   "outputs": [],
   "source": [
    "route_[0:10]"
   ]
  },
  {
   "cell_type": "code",
   "execution_count": null,
   "metadata": {
    "id": "8mz3GnGQ-4BX"
   },
   "outputs": [],
   "source": [
    "for idx, coord in enumerate(tsp_station_coords):\n",
    "  folium.Circle(\n",
    "      location = (coord[0], coord[1]),\n",
    "      radius = 100, \n",
    "      #popup = coord,\n",
    "      color='green',\n",
    "      fill=False,\n",
    "  ).add_to(base_map)\n"
   ]
  },
  {
   "cell_type": "code",
   "execution_count": null,
   "metadata": {
    "id": "sA3ns_2l-NI0"
   },
   "outputs": [],
   "source": []
  },
  {
   "cell_type": "markdown",
   "metadata": {
    "id": "ULAeg6vUEJgB"
   },
   "source": [
    "###network representation"
   ]
  },
  {
   "cell_type": "code",
   "execution_count": null,
   "metadata": {
    "executionInfo": {
     "elapsed": 219,
     "status": "ok",
     "timestamp": 1653173365442,
     "user": {
      "displayName": "Shan Gao",
      "userId": "01140183652841318337"
     },
     "user_tz": -60
    },
    "id": "uqqtK8hFMeIo"
   },
   "outputs": [],
   "source": [
    "edgelist = connections_[['station1_name', 'station2_name', 'line_colour', 'distance']]"
   ]
  },
  {
   "cell_type": "code",
   "execution_count": null,
   "metadata": {
    "executionInfo": {
     "elapsed": 218,
     "status": "ok",
     "timestamp": 1653173366662,
     "user": {
      "displayName": "Shan Gao",
      "userId": "01140183652841318337"
     },
     "user_tz": -60
    },
    "id": "xlsxqSjwKMUL"
   },
   "outputs": [],
   "source": [
    "g = nx.Graph()\n",
    "for i, elrow in edgelist.iterrows():\n",
    "    # g.add_edge(elrow[0], elrow[1], attr_dict=elrow[2:].to_dict())  # deprecated after NX 1.11\n",
    "    g.add_edge(elrow[0], elrow[1], **elrow[2:].to_dict())"
   ]
  },
  {
   "cell_type": "code",
   "execution_count": null,
   "metadata": {
    "executionInfo": {
     "elapsed": 258,
     "status": "ok",
     "timestamp": 1653173380237,
     "user": {
      "displayName": "Shan Gao",
      "userId": "01140183652841318337"
     },
     "user_tz": -60
    },
    "id": "bpRF8HJiNEcm"
   },
   "outputs": [],
   "source": [
    "nodelist = tube_stations[['name','latitude','longitude']]"
   ]
  },
  {
   "cell_type": "code",
   "execution_count": null,
   "metadata": {
    "executionInfo": {
     "elapsed": 200,
     "status": "ok",
     "timestamp": 1653173386173,
     "user": {
      "displayName": "Shan Gao",
      "userId": "01140183652841318337"
     },
     "user_tz": -60
    },
    "id": "TxNF5XbvM3yd"
   },
   "outputs": [],
   "source": [
    "for i, nlrow in nodelist.iterrows():\n",
    "    nx.set_node_attributes(g, {nlrow['name']:  nlrow[1:].to_dict()})  "
   ]
  },
  {
   "cell_type": "code",
   "execution_count": null,
   "metadata": {
    "executionInfo": {
     "elapsed": 199,
     "status": "ok",
     "timestamp": 1653173388939,
     "user": {
      "displayName": "Shan Gao",
      "userId": "01140183652841318337"
     },
     "user_tz": -60
    },
    "id": "thOyDy05NqJE"
   },
   "outputs": [],
   "source": [
    "node_positions_as_dict = {x[0]: x[1] for x in list(g.nodes(data=True))}"
   ]
  },
  {
   "cell_type": "code",
   "execution_count": null,
   "metadata": {
    "executionInfo": {
     "elapsed": 4,
     "status": "ok",
     "timestamp": 1653173389986,
     "user": {
      "displayName": "Shan Gao",
      "userId": "01140183652841318337"
     },
     "user_tz": -60
    },
    "id": "v7S4xaXPNs1l"
   },
   "outputs": [],
   "source": [
    "node_positions_final = {key: value for key, value in node_positions_as_dict.items()}"
   ]
  },
  {
   "cell_type": "code",
   "execution_count": null,
   "metadata": {
    "colab": {
     "base_uri": "https://localhost:8080/",
     "height": 222
    },
    "executionInfo": {
     "elapsed": 215,
     "status": "error",
     "timestamp": 1653173390993,
     "user": {
      "displayName": "Shan Gao",
      "userId": "01140183652841318337"
     },
     "user_tz": -60
    },
    "id": "_Oh0x6KxNyul",
    "outputId": "3eb9eadd-2916-4fa2-d827-0ef766e67faf"
   },
   "outputs": [],
   "source": [
    "node_positions = {node[0]: (node[1]['longitude'], node[1]['latitude']) for node in list(g.nodes(data=True))}"
   ]
  },
  {
   "cell_type": "code",
   "execution_count": null,
   "metadata": {
    "id": "GTlPLTMd0Fg3"
   },
   "outputs": [],
   "source": [
    "list(g.nodes(data=True))"
   ]
  },
  {
   "cell_type": "code",
   "execution_count": null,
   "metadata": {
    "colab": {
     "base_uri": "https://localhost:8080/",
     "height": 643
    },
    "executionInfo": {
     "elapsed": 428,
     "status": "ok",
     "timestamp": 1653169424154,
     "user": {
      "displayName": "Shan Gao",
      "userId": "01140183652841318337"
     },
     "user_tz": -60
    },
    "id": "3_J6tg4-RhV2",
    "outputId": "446a7f0a-9b7c-4cc7-97d8-ef28dd42cf69"
   },
   "outputs": [],
   "source": [
    "plt.figure(figsize=(12, 8))\n",
    "nx.draw(g, pos=node_positions, edge_color='lightgrey', node_size=5, node_color='black')\n",
    "plt.title('Graph Representation of London Underground Network', size=15)"
   ]
  },
  {
   "cell_type": "code",
   "execution_count": null,
   "metadata": {
    "id": "l_j3bKy3kwlM"
   },
   "outputs": [],
   "source": []
  },
  {
   "cell_type": "markdown",
   "metadata": {
    "id": "2MBCsMIkkw_1"
   },
   "source": [
    "###visualising solution"
   ]
  },
  {
   "cell_type": "code",
   "execution_count": null,
   "metadata": {
    "id": "ZyaZ8qrmWHK2"
   },
   "outputs": [],
   "source": [
    "route_e = []\n",
    "for i in range(0, len(route_)-1):\n",
    "  route_e.append(route_[i+1])\n",
    "routes = pd.DataFrame(columns=['1',\t'2'])\n",
    "routes['1'] = route_[0:697]\n",
    "routes['2'] = route_e"
   ]
  },
  {
   "cell_type": "code",
   "execution_count": null,
   "metadata": {
    "id": "4NofMUuoVBeT"
   },
   "outputs": [],
   "source": [
    "visit_colors = {1:'black', 2:'red'}\n",
    "edge_cnter = {}\n",
    "g_i_edge_colors = []\n",
    "\n",
    "for i, j in routes.iterrows():\n",
    "    nx.draw(g, pos=node_positions, edge_color='lightgrey', node_size=5, node_color='black')\n",
    "    routes_i = routes[0:i]\n",
    "    for i in range(len(route_i)):\n",
    "        edge_i = frozenset([routes_i.iloc[i][0], routes_i.iloc[i][1]])\n",
    "    g_i = nx.Graph()\n",
    "    for i, elrow in routes_i.iterrows():\n",
    "      g_i.add_edge(elrow[0], elrow[1])\n",
    "    nx.draw_networkx_nodes(g_i, pos=node_positions, node_size=4, alpha=0.6, node_color='blue', linewidths=0.1)\n",
    "    nx.draw_networkx_edges(g_i, pos=node_positions, edge_color='red', alpha=0.8)\n",
    "\n",
    "    plt.axis('off')\n",
    "    plt.savefig('png/img{}.png'.format(i), dpi=120, bbox_inches='tight')\n",
    "    plt.close()\n"
   ]
  },
  {
   "cell_type": "code",
   "execution_count": null,
   "metadata": {
    "id": "5mgVKJk0ZO8P"
   },
   "outputs": [],
   "source": [
    "import glob\n",
    "import imageio\n",
    "import os\n",
    "\n",
    "def make_circuit_video(image_path, movie_filename, fps=5):\n",
    "    # sorting filenames in order\n",
    "    filenames = glob.glob(image_path + 'img*.png')\n",
    "    filenames_sort_indices = np.argsort([int(os.path.basename(filename).split('.')[0][3:]) for filename in filenames])\n",
    "    filenames = [filenames[i] for i in filenames_sort_indices]\n",
    "\n",
    "    # make movie\n",
    "    with imageio.get_writer(movie_filename, mode='I', fps=fps) as writer:\n",
    "        for filename in filenames:\n",
    "            image = imageio.imread(filename)\n",
    "            writer.append_data(image)\n",
    "\n",
    "make_circuit_video('png/', 'png/route_animation.gif', fps=5)"
   ]
  },
  {
   "cell_type": "code",
   "execution_count": null,
   "metadata": {
    "colab": {
     "base_uri": "https://localhost:8080/",
     "height": 520,
     "output_embedded_package_id": "1-uvTGdCbx5RkidFXdz4GLURuoPjl4bCF"
    },
    "executionInfo": {
     "elapsed": 14870,
     "status": "ok",
     "timestamp": 1653211297153,
     "user": {
      "displayName": "Shan Gao",
      "userId": "01140183652841318337"
     },
     "user_tz": -60
    },
    "id": "vgIJonbha9Mv",
    "outputId": "c0274ea5-b61b-4cc7-9eeb-104c44b7f2b6"
   },
   "outputs": [],
   "source": [
    "from IPython.display import Image\n",
    "\n",
    "from IPython.core.interactiveshell import InteractiveShell\n",
    "InteractiveShell.ast_node_interactivity = \"all\"\n",
    "\n",
    "gifPath = 'png/route_animation.gif'\n",
    "with open(gifPath,'rb') as f:\n",
    "    Image(data=f.read(), format='png')"
   ]
  },
  {
   "cell_type": "markdown",
   "metadata": {
    "id": "RwY1cG-gkCcx"
   },
   "source": [
    "We can see that this route found by this algorithm 's still making quite a lot of sub-optimal moves. \n",
    "\n",
    "will try to improve the algorithm & training method in the coming days.\n"
   ]
  },
  {
   "cell_type": "markdown",
   "metadata": {
    "id": "RDhHa0KTkCxO"
   },
   "source": [
    "##test"
   ]
  },
  {
   "cell_type": "code",
   "execution_count": null,
   "metadata": {
    "id": "WhREwyA5bBHF"
   },
   "outputs": [],
   "source": [
    "im.show()"
   ]
  },
  {
   "cell_type": "code",
   "execution_count": null,
   "metadata": {
    "id": "MPyG2ezRTRqQ"
   },
   "outputs": [],
   "source": [
    "g_i.add_edge(route[0], route[1])\n",
    "g_i.add_edge(route[1], route[2])\n",
    "g_i.add_edge(route[2], route[3])\n",
    "g_i.add_edge(route[3], route[4])\n",
    "edge_color_list = [\"#003f5c\", \"#58508d\", \"#bc5090\", \"#ff6361\", \"#ffa600\"]\n",
    "nx.draw_networkx_nodes(g_i, pos=node_positions, node_size=6, alpha=0.6, node_color='black', linewidths=0.1)\n",
    "nx.draw_networkx_edges(g_i, pos=node_positions, edge_color=edge_color_list, alpha=1, linewidths=0.1)\n"
   ]
  },
  {
   "cell_type": "code",
   "execution_count": null,
   "metadata": {
    "colab": {
     "base_uri": "https://localhost:8080/",
     "height": 625
    },
    "executionInfo": {
     "elapsed": 699,
     "status": "ok",
     "timestamp": 1653165032870,
     "user": {
      "displayName": "Shan Gao",
      "userId": "01140183652841318337"
     },
     "user_tz": -60
    },
    "id": "55sLwXrpTJN4",
    "outputId": "c653eea9-e502-4482-da26-64350ae58c09"
   },
   "outputs": [],
   "source": [
    "g_i = nx.Graph(undirected=True)\n",
    "\n",
    "plt.figure(figsize=(12, 8))\n",
    "nx.draw(g, pos=node_positions, edge_color='lightgrey', node_size=5, node_color='gray', alpha=0.4)\n",
    "\n",
    "plt.axis('off')"
   ]
  },
  {
   "cell_type": "markdown",
   "metadata": {
    "id": "Yq2RqtKlKG2p"
   },
   "source": []
  },
  {
   "cell_type": "markdown",
   "metadata": {
    "id": "oTlKqYDiyIAk"
   },
   "source": [
    "##test"
   ]
  },
  {
   "cell_type": "code",
   "execution_count": null,
   "metadata": {
    "id": "ZqOL7GfIahoJ"
   },
   "outputs": [],
   "source": []
  },
  {
   "cell_type": "code",
   "execution_count": null,
   "metadata": {
    "colab": {
     "base_uri": "https://localhost:8080/"
    },
    "executionInfo": {
     "elapsed": 210,
     "status": "ok",
     "timestamp": 1653133144578,
     "user": {
      "displayName": "Shan Gao",
      "userId": "01140183652841318337"
     },
     "user_tz": -60
    },
    "id": "DFAmEAYjaZdb",
    "outputId": "d00b67dc-da77-4738-c061-c7c39e403b4b"
   },
   "outputs": [],
   "source": [
    "distance_matrix[10, 162]"
   ]
  },
  {
   "cell_type": "code",
   "execution_count": null,
   "metadata": {
    "id": "m_D_N4m7VR1L"
   },
   "outputs": [],
   "source": [
    "s = 0\n",
    "for station in distance_matrix:\n",
    "  s += 1\n",
    "  c = 0\n",
    "  for connection in station:\n",
    "    c += 1\n",
    "    if s != c and connection == 0:\n",
    "      connection +="
   ]
  },
  {
   "cell_type": "code",
   "execution_count": null,
   "metadata": {
    "colab": {
     "base_uri": "https://localhost:8080/",
     "height": 455
    },
    "executionInfo": {
     "elapsed": 247,
     "status": "ok",
     "timestamp": 1653131267564,
     "user": {
      "displayName": "Shan Gao",
      "userId": "01140183652841318337"
     },
     "user_tz": -60
    },
    "id": "XQ4JJW8AP7-p",
    "outputId": "b9d2736a-da00-47f7-87b9-2b1ed70a99dc"
   },
   "outputs": [],
   "source": [
    "stations.groupby(['id1','id1']).size().unstack().fillna(0)"
   ]
  },
  {
   "cell_type": "code",
   "execution_count": null,
   "metadata": {
    "id": "8bBmq36qNHhP"
   },
   "outputs": [],
   "source": [
    "for index, row in line_definitions.iterrows():\n",
    "  connections = connections.append({'line': row[2],\n",
    "                                    'line_name': routes[routes['line']==row[2]]['name'].item(),\n",
    "                                    'line_colour': routes[routes['line']==row[2]]['colour'].item(),\n",
    "                                    'station1': row[0],\n",
    "                                    'station1_name': stations[stations['id']==row[0]]['name'].item(),\n",
    "                                    'station1_long': stations[stations['id']==row[0]]['longitude'].item(),\n",
    "                                    'station1_lat': stations[stations['id']==row[0]]['latitude'].item(),\n",
    "                                    'station1_zone': stations[stations['id']==row[0]]['zone'].item(),\n",
    "                                    'station1_total_lines': stations[stations['id']==row[0]]['total_lines'].item(),\n",
    "                                    'station1_rail': stations[stations['id']==row[0]]['rail'].item(),\n",
    "                                    'station2': row[1],\n",
    "                                    'station2_name': stations[stations['id']==row[1]]['name'].item(),\n",
    "                                    'station2_long': stations[stations['id']==row[1]]['longitude'].item(),\n",
    "                                    'station2_lat': stations[stations['id']==row[1]]['latitude'].item(),\n",
    "                                    'station2_zone': stations[stations['id']==row[1]]['zone'].item(),\n",
    "                                    'station2_total_lines': stations[stations['id']==row[1]]['total_lines'].item(),\n",
    "                                    'station2_rail': stations[stations['id']==row[1]]['rail'].item(),\n",
    "                                    }, ignore_index=True)"
   ]
  },
  {
   "cell_type": "code",
   "execution_count": null,
   "metadata": {
    "colab": {
     "base_uri": "https://localhost:8080/",
     "height": 661
    },
    "executionInfo": {
     "elapsed": 25,
     "status": "ok",
     "timestamp": 1653133775138,
     "user": {
      "displayName": "Shan Gao",
      "userId": "01140183652841318337"
     },
     "user_tz": -60
    },
    "id": "5MWx2y8h8-BU",
    "outputId": "3af52f23-f556-4234-fa03-862fd47a73ff"
   },
   "outputs": [],
   "source": [
    "connections"
   ]
  },
  {
   "cell_type": "code",
   "execution_count": null,
   "metadata": {
    "id": "yepTy-q1dPgX"
   },
   "outputs": [],
   "source": [
    "connections['station1_name'] = connections['station1_name'] + ' ' + connections['line_name']"
   ]
  },
  {
   "cell_type": "code",
   "execution_count": null,
   "metadata": {
    "colab": {
     "base_uri": "https://localhost:8080/",
     "height": 661
    },
    "executionInfo": {
     "elapsed": 208,
     "status": "ok",
     "timestamp": 1653134257676,
     "user": {
      "displayName": "Shan Gao",
      "userId": "01140183652841318337"
     },
     "user_tz": -60
    },
    "id": "rclxJy4ubkBC",
    "outputId": "bdf343a6-e356-42bd-829f-4f608f03ca82"
   },
   "outputs": [],
   "source": [
    "connections"
   ]
  },
  {
   "cell_type": "code",
   "execution_count": null,
   "metadata": {
    "colab": {
     "base_uri": "https://localhost:8080/",
     "height": 424
    },
    "executionInfo": {
     "elapsed": 225,
     "status": "ok",
     "timestamp": 1653135223479,
     "user": {
      "displayName": "Shan Gao",
      "userId": "01140183652841318337"
     },
     "user_tz": -60
    },
    "id": "sXUQEuzUfSM5",
    "outputId": "587d64ed-0598-4d17-a272-b2f910da4021"
   },
   "outputs": [],
   "source": []
  },
  {
   "cell_type": "code",
   "execution_count": null,
   "metadata": {
    "colab": {
     "base_uri": "https://localhost:8080/"
    },
    "executionInfo": {
     "elapsed": 1276,
     "status": "ok",
     "timestamp": 1653135211115,
     "user": {
      "displayName": "Shan Gao",
      "userId": "01140183652841318337"
     },
     "user_tz": -60
    },
    "id": "L-W3a9LfhDs6",
    "outputId": "cceee138-7b28-4431-c6c0-55cf71907538"
   },
   "outputs": [],
   "source": [
    "for index, row in connections.iterrows():\n",
    "  stations_[stations_['id']==row[3]]['line'] = row[0]\n",
    "  "
   ]
  },
  {
   "cell_type": "code",
   "execution_count": null,
   "metadata": {
    "colab": {
     "base_uri": "https://localhost:8080/",
     "height": 313
    },
    "executionInfo": {
     "elapsed": 226,
     "status": "ok",
     "timestamp": 1653135806355,
     "user": {
      "displayName": "Shan Gao",
      "userId": "01140183652841318337"
     },
     "user_tz": -60
    },
    "id": "PQWaZfSZiobi",
    "outputId": "109240a0-fc51-490a-efc4-12f1888db8c3"
   },
   "outputs": [],
   "source": [
    "stations_.loc[stations_['id']==11]['line'] = line_definitions[line_definitions['station1']==11]['line'].unique()\n",
    "stations_[stations_['id']==11]"
   ]
  },
  {
   "cell_type": "code",
   "execution_count": null,
   "metadata": {
    "id": "jT3V2zfpi1ZP"
   },
   "outputs": [],
   "source": [
    "test['b'] = test['b'].apply(lambda x: [5,6,7])"
   ]
  },
  {
   "cell_type": "code",
   "execution_count": null,
   "metadata": {
    "colab": {
     "base_uri": "https://localhost:8080/",
     "height": 353
    },
    "executionInfo": {
     "elapsed": 297,
     "status": "error",
     "timestamp": 1653137419334,
     "user": {
      "displayName": "Shan Gao",
      "userId": "01140183652841318337"
     },
     "user_tz": -60
    },
    "id": "SKx1-VmllcZV",
    "outputId": "3eece6f9-ce45-421f-9f51-20abc109c3d1"
   },
   "outputs": [],
   "source": [
    "stations_.loc[stations_['id']==1, 'line'] = np.concatenate((line_definitions[line_definitions['station1']==1]['line'].unique(), line_definitions[line_definitions['station2']==1]['line'].unique()))\n"
   ]
  },
  {
   "cell_type": "code",
   "execution_count": null,
   "metadata": {
    "id": "ocMzDUtfpvcX"
   },
   "outputs": [],
   "source": [
    "stations_.loc[stations_['id']==97, 'line'] = np.unique(np.concatenate((\n",
    "    line_definitions[line_definitions['station1']==97]['line'].unique()\n",
    "    , line_definitions[line_definitions['station2']==97]['line'].unique())))"
   ]
  },
  {
   "cell_type": "code",
   "execution_count": null,
   "metadata": {
    "colab": {
     "base_uri": "https://localhost:8080/"
    },
    "executionInfo": {
     "elapsed": 240,
     "status": "ok",
     "timestamp": 1653137968289,
     "user": {
      "displayName": "Shan Gao",
      "userId": "01140183652841318337"
     },
     "user_tz": -60
    },
    "id": "UPOruncjs2XC",
    "outputId": "e0130c75-ce1c-4756-d42b-06b45c40ea96"
   },
   "outputs": [],
   "source": [
    "np.unique(np.concatenate((\n",
    "    line_definitions[line_definitions['station1']==96]['line'].unique()\n",
    "    , line_definitions[line_definitions['station2']==96]['line'].unique())))"
   ]
  },
  {
   "cell_type": "code",
   "execution_count": null,
   "metadata": {
    "colab": {
     "base_uri": "https://localhost:8080/"
    },
    "executionInfo": {
     "elapsed": 202,
     "status": "ok",
     "timestamp": 1653137746426,
     "user": {
      "displayName": "Shan Gao",
      "userId": "01140183652841318337"
     },
     "user_tz": -60
    },
    "id": "HxaGKmAcrgWe",
    "outputId": "eb8f13d7-41d0-4747-c0b7-d34e18eaae58"
   },
   "outputs": [],
   "source": [
    "np.unique(np.concatenate((line_definitions[line_definitions['station1']==145]['line'].unique()\n",
    ", line_definitions[line_definitions['station2']==145]['line'].unique())))"
   ]
  },
  {
   "cell_type": "code",
   "execution_count": null,
   "metadata": {
    "colab": {
     "base_uri": "https://localhost:8080/",
     "height": 81
    },
    "executionInfo": {
     "elapsed": 232,
     "status": "ok",
     "timestamp": 1653137948267,
     "user": {
      "displayName": "Shan Gao",
      "userId": "01140183652841318337"
     },
     "user_tz": -60
    },
    "id": "SUU5NT0bswJT",
    "outputId": "d89dc2ec-447d-4178-8f72-01ac8a39184a"
   },
   "outputs": [],
   "source": [
    "stations_.loc[stations_['id']==96]"
   ]
  },
  {
   "cell_type": "code",
   "execution_count": null,
   "metadata": {
    "id": "5NB_GDiLryAS"
   },
   "outputs": [],
   "source": [
    "ilist=[]\n",
    "for i in range(1,310):\n",
    "  try:\n",
    "    stations_.loc[stations_['id']==i, 'line'] = np.unique(np.concatenate((line_definitions[line_definitions['station1']==i]['line'].unique(), line_definitions[line_definitions['station2']==i]['line'].unique())))\n",
    "  except:\n",
    "    ilist.append(i)\n",
    "    pass"
   ]
  },
  {
   "cell_type": "markdown",
   "metadata": {
    "id": "bDa513_vxic4"
   },
   "source": [
    "## test"
   ]
  },
  {
   "cell_type": "code",
   "execution_count": null,
   "metadata": {
    "id": "BiapZ1bDX-o7"
   },
   "outputs": [],
   "source": [
    "#making a 'completed' dict\n",
    "keys = pd.unique(connections[['station1', 'station2']].values.ravel('K'))\n",
    "completed = dict(zip(keys, [False] * len(connections)))\n",
    "\n",
    "#initialize with a starting state\n",
    "state = 169\n",
    "total_distance = 0\n",
    "completed[state] = True\n",
    "step = 0\n",
    "done = False\n",
    "\n",
    "#loop until every stop is completed\n",
    "while not done:\n",
    "  ## all actions allowed,  # Avoid already visited states\n",
    "  actions = np.concatenate([network[(network[:,0] == state)], network[(network[:,1] == state)]])\n",
    "  action = actions[np.random.randint(len(actions))]\n",
    "  ## get distance from matrix maybe\n",
    "  total_distance += action[2]\n",
    "  ## update state\n",
    "  if state == action[0]:\n",
    "    state = action[1]\n",
    "  else:\n",
    "    state = action[0]\n",
    "  completed[state] = True\n",
    "  done = all(value == True for value in completed.values())\n",
    "  step += 1\n",
    "print(step, total_distance)"
   ]
  },
  {
   "cell_type": "code",
   "execution_count": null,
   "metadata": {
    "id": "94dkcjcrazJO"
   },
   "outputs": [],
   "source": []
  },
  {
   "cell_type": "code",
   "execution_count": null,
   "metadata": {
    "id": "K_OmOT41azV9"
   },
   "outputs": [],
   "source": [
    "import networkx as nx\n",
    "graph_distance = nx.Graph()\n",
    "for connection_id, connection in connections.iterrows():\n",
    "    graph_distance.add_edge(connection['station1_name'], connection['station2_name'], weight = connection['distance'])"
   ]
  }
 ],
 "metadata": {
  "colab": {
   "collapsed_sections": [
    "LlRw48K6slY3",
    "AkFjkyV0tJA0",
    "MrUaCzL66CMJ",
    "pSpnRo-u2Wea",
    "m4LRGYnrfnK-",
    "UtxowR9llzvL",
    "XAu_altA2M86",
    "wPLsad_vKDkS",
    "ULAeg6vUEJgB",
    "oTlKqYDiyIAk",
    "bDa513_vxic4"
   ],
   "name": "build_tube_network.ipynb",
   "provenance": []
  },
  "kernelspec": {
   "display_name": "Python 3 (ipykernel)",
   "language": "python",
   "name": "python3"
  },
  "language_info": {
   "codemirror_mode": {
    "name": "ipython",
    "version": 3
   },
   "file_extension": ".py",
   "mimetype": "text/x-python",
   "name": "python",
   "nbconvert_exporter": "python",
   "pygments_lexer": "ipython3",
   "version": "3.9.7"
  }
 },
 "nbformat": 4,
 "nbformat_minor": 1
}
